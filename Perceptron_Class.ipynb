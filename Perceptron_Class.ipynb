{
  "nbformat": 4,
  "nbformat_minor": 0,
  "metadata": {
    "colab": {
      "name": "Perceptron_Class.ipynb",
      "provenance": [],
      "collapsed_sections": [],
      "authorship_tag": "ABX9TyPwQ/Ha5mBw9ZRTBF4pW47e",
      "include_colab_link": true
    },
    "kernelspec": {
      "name": "python3",
      "display_name": "Python 3"
    }
  },
  "cells": [
    {
      "cell_type": "markdown",
      "metadata": {
        "id": "view-in-github",
        "colab_type": "text"
      },
      "source": [
        "<a href=\"https://colab.research.google.com/github/astanwar99/machine-learning-exercises/blob/master/Perceptron_Class.ipynb\" target=\"_parent\"><img src=\"https://colab.research.google.com/assets/colab-badge.svg\" alt=\"Open In Colab\"/></a>"
      ]
    },
    {
      "cell_type": "code",
      "metadata": {
        "id": "-5i533PKUBev",
        "colab_type": "code",
        "colab": {}
      },
      "source": [
        "import numpy as np\n",
        "import pandas as pd\n",
        "import matplotlib.pyplot as plt\n",
        "\n",
        "import sklearn.datasets\n",
        "from sklearn.model_selection import train_test_split\n",
        "from sklearn.metrics import accuracy_score"
      ],
      "execution_count": 0,
      "outputs": []
    },
    {
      "cell_type": "code",
      "metadata": {
        "id": "HeZFxipnUVWA",
        "colab_type": "code",
        "colab": {}
      },
      "source": [
        "breast_dataset = sklearn.datasets.load_breast_cancer()\n",
        "\n",
        "data = pd.DataFrame(breast_dataset.data, columns=breast_dataset.feature_names)\n",
        "data['class'] = breast_dataset.target"
      ],
      "execution_count": 0,
      "outputs": []
    },
    {
      "cell_type": "code",
      "metadata": {
        "id": "qgYEAPUiUbDM",
        "colab_type": "code",
        "colab": {}
      },
      "source": [
        "X = data.drop('class', axis=1)\n",
        "Y = data['class']\n",
        "\n",
        "X_train, X_test, Y_train, Y_test = train_test_split(X, Y, stratify = Y, random_state = 1)\n"
      ],
      "execution_count": 0,
      "outputs": []
    },
    {
      "cell_type": "code",
      "metadata": {
        "id": "IkwPJBt3UblW",
        "colab_type": "code",
        "colab": {}
      },
      "source": [
        "X_binarized_train = X_train.apply(pd.cut, bins = 2, labels=[1, 0])\n",
        "X_binarized_test = X_test.apply(pd.cut, bins = 2, labels=[1, 0])\n",
        "X_binarized_test = X_binarized_test.values\n",
        "X_binarized_train = X_binarized_train.values"
      ],
      "execution_count": 0,
      "outputs": []
    },
    {
      "cell_type": "code",
      "metadata": {
        "id": "5ReTYkAXXNRQ",
        "colab_type": "code",
        "colab": {}
      },
      "source": [
        "X_train = X_train.values\n",
        "X_test = X_test.values"
      ],
      "execution_count": 0,
      "outputs": []
    },
    {
      "cell_type": "code",
      "metadata": {
        "id": "7j0h39J4UhaK",
        "colab_type": "code",
        "colab": {}
      },
      "source": [
        "class Perceptron:\n",
        "  def __init__(self):\n",
        "    self.w = None\n",
        "    self.b = None\n",
        "\n",
        "  def model(self, x):\n",
        "    return 1 if (np.dot(self.w, x) >= self.b) else 0\n",
        "  \n",
        "  def predict(self, X):\n",
        "    Y = []\n",
        "    for x in X:\n",
        "      result = self.model(x)\n",
        "      Y.append(result)\n",
        "    return np.array(Y)\n",
        "\n",
        "  def fit(self, X, Y, epoch = 2, lr = 1):\n",
        "    self.w = np.ones(X.shape[1])\n",
        "    self.b = 0\n",
        "\n",
        "    accuracy = {}\n",
        "    max_accuracy = 0\n",
        "\n",
        "    wt_matrix = []\n",
        "    \n",
        "    for i in range(epoch):\n",
        "      for x, y in zip(X, Y):\n",
        "        y_pred = self.model(x)\n",
        "        if y == 1 and y_pred == 0:\n",
        "          self.w = self.w + lr * x\n",
        "          self.b = self.b + lr * 1\n",
        "        elif y == 0 and y_pred == 1:\n",
        "          self.w = self.w - lr * x\n",
        "          self.b = self.b - lr * 1\n",
        "      \n",
        "      wt_matrix.append(self.w)\n",
        "        \n",
        "      accuracy[i] = accuracy_score(self.predict(X), Y)\n",
        "      if (accuracy[i] > max_accuracy):\n",
        "        max_accuracy = accuracy[i]\n",
        "        chkptw = self.w\n",
        "        chkptb = self.b\n",
        "        \n",
        "    self.w = chkptw\n",
        "    self.b = chkptb\n",
        "    print(max_accuracy)\n",
        "    plt.plot(list(accuracy.values()))\n",
        "    plt.ylim([0, 1])\n",
        "    plt.show()\n",
        "\n",
        "    return np.array(wt_matrix)\n"
      ],
      "execution_count": 0,
      "outputs": []
    },
    {
      "cell_type": "code",
      "metadata": {
        "id": "i5uxtZs1W_HS",
        "colab_type": "code",
        "colab": {}
      },
      "source": [
        "perceptron = Perceptron()"
      ],
      "execution_count": 0,
      "outputs": []
    },
    {
      "cell_type": "code",
      "metadata": {
        "id": "LwD07VbZXcK-",
        "colab_type": "code",
        "outputId": "8db4b554-be3e-4c5b-a324-a923ae822fd9",
        "colab": {
          "base_uri": "https://localhost:8080/",
          "height": 286
        }
      },
      "source": [
        "wt_matrix = perceptron.fit(X_train, Y_train, 100)"
      ],
      "execution_count": 60,
      "outputs": [
        {
          "output_type": "stream",
          "text": [
            "0.9154929577464789\n"
          ],
          "name": "stdout"
        },
        {
          "output_type": "display_data",
          "data": {
            "image/png": "[encoded data removed]",
            "text/plain": [
              "<Figure size 432x288 with 1 Axes>"
            ]
          },
          "metadata": {
            "tags": [],
            "needs_background": "light"
          }
        }
      ]
    },
    {
      "cell_type": "code",
      "metadata": {
        "id": "1YlUbASFzIgj",
        "colab_type": "code",
        "colab": {}
      },
      "source": [
        ""
      ],
      "execution_count": 0,
      "outputs": []
    },
    {
      "cell_type": "code",
      "metadata": {
        "id": "7ekwvxWvXg6c",
        "colab_type": "code",
        "outputId": "62916a08-e55a-45a2-80eb-6ab22aa1d5f6",
        "colab": {
          "base_uri": "https://localhost:8080/",
          "height": 34
        }
      },
      "source": [
        "Y_pred_train = perceptron.predict(X_train)\n",
        "print(accuracy_score(Y_pred_train, Y_train))"
      ],
      "execution_count": 53,
      "outputs": [
        {
          "output_type": "stream",
          "text": [
            "0.9507042253521126\n"
          ],
          "name": "stdout"
        }
      ]
    },
    {
      "cell_type": "code",
      "metadata": {
        "id": "2nGiNTYbYXth",
        "colab_type": "code",
        "outputId": "3bf8ee80-5e4f-43b9-94aa-1713e33185fa",
        "colab": {
          "base_uri": "https://localhost:8080/",
          "height": 34
        }
      },
      "source": [
        "Y_pred_test = perceptron.predict(X_test)\n",
        "print(accuracy_score(Y_pred_test, Y_test))"
      ],
      "execution_count": 54,
      "outputs": [
        {
          "output_type": "stream",
          "text": [
            "0.9370629370629371\n"
          ],
          "name": "stdout"
        }
      ]
    },
    {
      "cell_type": "code",
      "metadata": {
        "id": "emsEuGzhYvj8",
        "colab_type": "code",
        "colab": {
          "base_uri": "https://localhost:8080/",
          "height": 265
        },
        "outputId": "1ccb3b38-a77c-4fca-aa22-a362486c7fd0"
      },
      "source": [
        "plt.plot(wt_matrix[-1, :])\n",
        "plt.show()"
      ],
      "execution_count": 61,
      "outputs": [
        {
          "output_type": "display_data",
          "data": {
            "image/png": "[encoded data removed]",
            "text/plain": [
              "<Figure size 432x288 with 1 Axes>"
            ]
          },
          "metadata": {
            "tags": [],
            "needs_background": "light"
          }
        }
      ]
    },
    {
      "cell_type": "code",
      "metadata": {
        "id": "awdgTznTxwGf",
        "colab_type": "code",
        "colab": {}
      },
      "source": [
        "%matplotlib inline\n",
        "from matplotlib import animation, rc\n",
        "from IPython.display import HTML"
      ],
      "execution_count": 0,
      "outputs": []
    },
    {
      "cell_type": "code",
      "metadata": {
        "id": "mizYcIN9yJAl",
        "colab_type": "code",
        "colab": {
          "base_uri": "https://localhost:8080/",
          "height": 269
        },
        "outputId": "fbe2a7c9-6a55-4143-a0fe-a381af99424a"
      },
      "source": [
        "fig, ax = plt.subplots()\n",
        "\n",
        "ax.set_xlim(( 0, wt_matrix.shape[1]))\n",
        "ax.set_ylim((-15000, 25000))\n",
        "\n",
        "line, = ax.plot([], [], lw=2)"
      ],
      "execution_count": 66,
      "outputs": [
        {
          "output_type": "display_data",
          "data": {
            "image/png": "[encoded data removed]",
            "text/plain": [
              "<Figure size 432x288 with 1 Axes>"
            ]
          },
          "metadata": {
            "tags": [],
            "needs_background": "light"
          }
        }
      ]
    },
    {
      "cell_type": "code",
      "metadata": {
        "id": "OlxToTz5yPDz",
        "colab_type": "code",
        "colab": {}
      },
      "source": [
        "def animate(i):\n",
        "    x = list(range(wt_matrix.shape[1]))\n",
        "    y = wt_matrix[i, :]\n",
        "    line.set_data(x, y)\n",
        "    return (line,)"
      ],
      "execution_count": 0,
      "outputs": []
    },
    {
      "cell_type": "code",
      "metadata": {
        "id": "Yxp72WwqyWXx",
        "colab_type": "code",
        "colab": {}
      },
      "source": [
        "# call the animator. blit=True means only re-draw the parts that have changed.\n",
        "anim = animation.FuncAnimation(fig, animate, frames=100, interval=100, blit=True)"
      ],
      "execution_count": 0,
      "outputs": []
    },
    {
      "cell_type": "code",
      "metadata": {
        "id": "kZqz3o8rybRp",
        "colab_type": "code",
        "colab": {
          "base_uri": "https://localhost:8080/",
          "height": 309
        },
        "outputId": "5376882b-4767-4866-9926-e86d018165f0"
      },
      "source": [
        "HTML(anim.to_html5_video())"
      ],
      "execution_count": 71,
      "outputs": [
        {
          "output_type": "execute_result",
          "data": {
            "text/html": [
              "<video width=\"432\" height=\"288\" controls autoplay loop>\n",
              "  <source type=\"video/mp4\" src=\"data:video/mp4;base64,AAAAHGZ0eXBNNFYgAAACAGlzb21pc28yYXZjMQAAAAhmcmVlAABpu21kYXQAAAKuBgX//6rcRem9\n",
              "5tlIt5Ys2CDZI+7veDI2NCAtIGNvcmUgMTUyIHIyODU0IGU5YTU5MDMgLSBILjI2NC9NUEVHLTQg\n",
              "QVZDIGNvZGVjIC0gQ29weWxlZnQgMjAwMy0yMDE3IC0gaHR0cDovL3d3dy52aWRlb2xhbi5vcmcv\n",
              "eDI2NC5odG1sIC0gb3B0aW9uczogY2FiYWM9MSByZWY9MyBkZWJsb2NrPTE6MDowIGFuYWx5c2U9\n",
              "MHgzOjB4MTEzIG1lPWhleCBzdWJtZT03IHBzeT0xIHBzeV9yZD0xLjAwOjAuMDAgbWl4ZWRfcmVm\n",
              "PTEgbWVfcmFuZ2U9MTYgY2hyb21hX21lPTEgdHJlbGxpcz0xIDh4OGRjdD0xIGNxbT0wIGRlYWR6\n",
              "b25lPTIxLDExIGZhc3RfcHNraXA9MSBjaHJvbWFfcXBfb2Zmc2V0PS0yIHRocmVhZHM9MyBsb29r\n",
              "YWhlYWRfdGhyZWFkcz0xIHNsaWNlZF90aHJlYWRzPTAgbnI9MCBkZWNpbWF0ZT0xIGludGVybGFj\n",
              "ZWQ9MCBibHVyYXlfY29tcGF0PTAgY29uc3RyYWluZWRfaW50cmE9MCBiZnJhbWVzPTMgYl9weXJh\n",
              "bWlkPTIgYl9hZGFwdD0xIGJfYmlhcz0wIGRpcmVjdD0xIHdlaWdodGI9MSBvcGVuX2dvcD0wIHdl\n",
              "aWdodHA9MiBrZXlpbnQ9MjUwIGtleWludF9taW49MTAgc2NlbmVjdXQ9NDAgaW50cmFfcmVmcmVz\n",
              "aD0wIHJjX2xvb2thaGVhZD00MCByYz1jcmYgbWJ0cmVlPTEgY3JmPTIzLjAgcWNvbXA9MC42MCBx\n",
              "cG1pbj0wIHFwbWF4PTY5IHFwc3RlcD00IGlwX3JhdGlvPTEuNDAgYXE9MToxLjAwAIAAABERZYiE\n",
              "AD///vdonwKbWkN6gOSVxSXbT4H/q2dwfI/pAwAAAwAAr9Z/EHZA1ApEpQJI4CClrIxi9D4XRs1x\n",
              "YgEqXPAa7PD610Wq4c1bXGE4ThLHLOn+z7FV5vmZqps0l9Ox/xlee0Xiy1NDnUHxqpQ/azaZvqPW\n",
              "kUu2v9WqJluE0y9StAIm0v4rMw8ZDY4is9c51LU/gAAAD3hHS6LO73rLvkp0ZNOTaZyWPZBhm1u0\n",
              "2+9QkdsKAzrUZ7Vv+3zHzSb/SpVmd4TiAvEmvshr+/PkmMTVxrvI9JMp3JQUM/d9BqtrDjKGglt0\n",
              "s2Jd+oM+qrtnDwMwTeoHw70Y489aG/pCcfbn4pU8YNbHQqcUJFYGbScqMkBLxq9TCs9oYU1iRKLT\n",
              "+I3FEE3IqxEIPy90JQnttrZZlZBtE60nC2+/VCJuByyfbpnGRBP44b+N/SsdjkgzFAWkmThNG1oD\n",
              "BbEk+lZ3VNGUqlX53vzfF/CWIVgwzXhPuok3U0GoIi+5kiMR0KEnqYdNTquaxAAQigOILVcCMNW6\n",
              "UGoO+bZp7YXmk5s56qKsD1WaXeiptYtS6d/MwcmGwqLbRtfXi4Y0ri0PGlRE4rrhZhxtSmhKu6QM\n",
              "hu6puXYBb5KEvCKglKHdhMin8l1LT8F8NggHjv6wuMPkwKx/fcp6jGtmZ74/ME1aX7Zb7ush9M9G\n",
              "DxQ4VePhFuwpGgAoAY4PmbKjHKxp9Jy+4It5MUBGXuauvtcef0yAWgRWQAgKry1UDCZ28632RMTT\n",
              "T8nZCRB9iaNioawjqDI7OZEKMQaF/hYu9cR4jh9CV87W3e4glJh453GPgNYM8pwBVgHauvlQ+OIc\n",
              "dFCaRlFjRs86IIkYA80H6bIfKQ0pNigbARBGrBFLduEBHsUUw5QaMYVbDIRb4aKTue+WbUaJAqLi\n",
              "ze2Z9e0cD9fBp3Gdg+YaJAlYqrQ8j8pz5xG/Rvsn4ZrZFROypFe0Szilv3XwAAFuVmc0ni7Be/Cp\n",
              "gs/5L8EiMrpKeUTyJUsdpKkfVmkSGtXdTK17bKIgS8h/bJcOy3Ff5G5/EgPTl7SlrBrlatnc2kZk\n",
              "22QCQsXGZxKKDbwNaVbzdJqeN60GiH7q/AUn9YUpVGMjVKrNFbpHgMhKp/xtmRPRzL0Zg20TQ5DB\n",
              "daDKVaQJWk98wXG8kI6QpluHaBYefsajfhIBSIzkKB7teE1UjsgLXDJfYPOi3rin9vRd8dED3R7b\n",
              "YP42fF9nXbQPqYylvQ+ZhRiMJtVVQn4fLTpy7RUNy2XgBW35Yu6lANSKMlNchuiFuVL5T+owXg+U\n",
              "059MnRNhtv1N92r3hfpMw7mQoVWKi3sBqQYHm1ipjTRTsADE7a4cZnUGS7CMZ087BYSqhLOSBmLG\n",
              "BJ5pPNbn11yQfovQ7Gd//ULmBPmxqO7kFeSCuGvBCSryDhtzeI39lgHch9Kxr3IENHZdsH5YnblL\n",
              "p0vWRHql0zIZVmNw4E423vjGPAxlynXvk+4QAAPOf+SjUqNR6PUVN8PQtHPMSB9EcquBAO5r1CIs\n",
              "tvRlmpsukSjwKpKoTCCwTmaIKwOVG7ybtTCDljkKKRRyDRj1ZhtWi8uUcsjvXwHAAALYMlJIG3PC\n",
              "cmZqWGNL5a/+qIFYETGZGmAIIbdnbt7XwIEeSVBRPIDW38uQ96K87/jJ85NzoobDOP6Y77xophCu\n",
              "gZez/QNoGUxAE/ZYeEQ1PJ9iNNSCjMijV5sIsRrHruXSvXd39vOwKvscgH23EMVRtAb7LXqK7PqF\n",
              "rm/a2B8tdC8dx72XYZ3YFIMsg98spDOMDLy7rA0TnpMviQVTEY31aNlvmIxcAzlzM6wzVE9mWB8D\n",
              "DRlesjxiqaMAUsD2aea2zN/fan3MQMzU/XDCh2D3KsW6WLTA9n3TlftwgO6Pms/INJAQebZf7LIg\n",
              "309gArN3oi1v154zwNi8gbsPYX0DPrbJpoikDPm4ySA59FjCHtNxgC7e7DFT5mguZl3X4v7YxkcL\n",
              "MRSr/R9zzXkR73BdvvA+Z3wJHl7Q/jEW+Nqa5XwQq7J4pkBpnDQ0Uecu8F9qLtZROVC3j/YvFFop\n",
              "CLaC+Xp8wt5n+DozZWGx+9ArRgSPiVWixIN0p/UYJtJhkzYRwaJ6YufcK3oFqrmXPZmK/rmshSb4\n",
              "nslW57Pl0MgomzOA5UhCIDUoEycxp+R4Ouap9xakDBY86ZZaduugKwRYCUw6NgSO++Oyu/AgXij1\n",
              "xyTCv9efAzmqHU+3JRIn+lGcqPA+lMfc+BgLgcyPnH+TBrVY3yYbcdsSm8hrRun0llM3bPW/0b/9\n",
              "VM9L5DfOtlByXyIqP5kgOsTTuy9XHyLR4c/PsbJX1OOxtHpqUThiiGNsOHdxHtxa1GHZ+bvQTz9r\n",
              "3XyjzXLK+IUA6d19gwZE2Rypz7lnupgZbUsRpN/w6tfBQY5ok0YpzP4VYZQd7eC9/cj2lPF/9T4S\n",
              "J3woz2y/HrXFsB3dzCm4WCbSVwcdjtcNEan1RbxrI0IijOEHilvqOlnBcBEvdZ0ECKJi755G1cFS\n",
              "IsMyCuH6URdsxtq4GSAIII/J0IIeY1c2xWrrAlzW7dKMYigXdnziar37jaxD+Mj6Xl8ZI1fhhNoZ\n",
              "OdofKA3d/6PKhl1HzJbXTkzu0yrNQf3Ytd1m8R/8ib18c94r2o3aVgRVhsZHioE2bQ7vn2LtXkYl\n",
              "qtYQ6U86qCO0n5DN60P0F1KN+t6nVMsYTsjQ14rck2GQ2mvYvCVPRrTDEo7UykaFabiqi/gOiOGi\n",
              "gkop74sDjvpRCYTMlsLQmp2xCe7B8k6EzbT904CKcJXU9d6mmgMV/Bkx3EGAClu8kA/rogAi3VB1\n",
              "Q/yLXlhltLkzWrs+rgXpsbX5STzqj8t8ULKj/GGqLfrVa1ioQyEzfyMPZguQeq+sgnBTfF5Dt7Pc\n",
              "wajBMXoFjzWg1nMjCWru+byL7vD9Dp95aoqK9FhwXJW67HX2QvITGNr8g0X7YetcVIquHxzHyQps\n",
              "sTzsWxdz2ZUJBJO6tB1IjdoiXSDKa1seQ1dl0Wvsn2jYriX7bGxJpSBrjjW1HSecKOh2nQYscnN7\n",
              "0R1kizf9geqUfIRpxTbmD7G/J9o3izXnMZ6ITk0r5zCOcAYgNyequOoyhR0+eFPcEAq5Q6H90lpB\n",
              "az07VIQDIuaY8wnqLnO6UBRqw8r3e6KNiS7zwqOoZmeTYayWfxke+SST/LVmlrVMTnh7WZBb86it\n",
              "xEdawTrkzm544FC7QMYTfioEYJGOCxwYyiDmcnjiyNKB+VH85RWxpwoQxQ5vT6o4Y4yLk9o5nORr\n",
              "p7kKPdQHAbajBqsk8vzBhL2Wb2Iwg+/+2PXTrc987XZcvqbu7hL9HNRuxBiwNpUnasak75BZ+htB\n",
              "PtnpZsm0H4khHVm+k+m4IDgs7NEIP5uh04700HaBWXNgzu7GXPfkHEBJSH6M84HRD1GLtiVdxTD7\n",
              "m0nv/j9nZD8K4D9nlO7XpuCJAPXi3V4FbFt3HT8Ril3E1jkRrksncnlFbX74ZW9qOgN6BL/ORIlX\n",
              "zvTWnWqCXG9Uywyu51H291QAgQnQoi89NrsxUWdvrY4/J0c/eGAcidLy+8pbWQ8C9PNIfr8s/mph\n",
              "IFR6sh2viefpslSNiT+KfJKONlKoNkBZHBMUjPXI3Paef6/pR/5Wonm1KWDHIb7B2Hbar/tWVh/g\n",
              "cLoHFc9SUQxis3OhnWf0gvfKH7V2ds+NVRv/JO0YTXRnKt5cK85n8NvTaStBe7RAHkBPeBGd7/lJ\n",
              "USe9ytJB7EOXZ6iIifQtw7ypTR+S++7BBb6VnL2iG5tHofk2gsIfgfANkMFz0WX95DaiNGYmt3qT\n",
              "hqVYpVyGhQ8/Sgi/tbLVuJEKLu67Z3QqxZiXdueEmOcGhP2/RWgCC8GZsoyvi1pEmG3Q6E4AGJhu\n",
              "JuLAFFZndYDujcnBHY9QVgcyNuc1IZCVLBHWjm8Pfjg3C1dMOQE1JpkLWSyp8u+IinfQgBfeLp0A\n",
              "1kr3XmR47ddMF2SIM3K+zPFFBVV8ynV4U3W2KlqeinDL4iiYG7J+4pwBsXQ4IWGT4fBAUABf3Nfp\n",
              "+CX7PQ5SrbOPELZy9myGxTGxrYFyBKZjVVL2LwkhgypT2vbIucJwh1AHfg2fEXl54TEigcv5uGli\n",
              "MdoiYmc5yjf/kAAA31nRDtGTKS4bHP5eemCq7TQxv/ydu9yalaNmc4Ni9vx7uYnHGeKYbO1URET+\n",
              "H5rMVZb4rTzIKhCwAjgEqAEHhrlD/iWhwAREohpjA9snh3fGl48aJwTVZZibrtZ2QIE/QzZjBZ+R\n",
              "So5iNdMfxIZf5PwiEK1DfvQWH4dlF7he5LRLLQuG015COYPYyHjV0GdI5RdUkJILmgCnjXVV2Mls\n",
              "FaG1Xw6sGAbiEoK1GfXXdAW3MFE52WJ+lzDYSgrA4Sr8DAjoleYU7VcP6FwDsc90qQiLZRKDxq1C\n",
              "ameiJiuVOUBLkCcirMjO81Gum0h7nXUGATbBoVBa2o0P+KjTSTol3fDwEBbBJdjBp+zBZxqCz9wP\n",
              "K7mCELzUzbelA0P68/PJoUQZU4Zi4u4HM5MXLUPUI6rlBuzeLI94lCQFJ6XEs7d/JYoeeu7Zd/PU\n",
              "wNjyNZ74SHnE2r1+KoZSXMPwH5XQ/rM/Vaya4EVvdkwxRRWTq3Y+56EES0PllodNqIN83UzXT0OM\n",
              "I6A6oWAJ+raKxiGvqVgWdNumk+3zb21WuBWs0AnQRGdVvOdzf+bLTy9tHisgbiVnxylQHevh/w+7\n",
              "2vcpxdZI1Wp0RyN6cwc9qBf+R4RE5LRI087sM3RHSUjkb05g58G2YFJTzv63K5q1IxE8eYTrBT+t\n",
              "YzFb40LrmrUjETx5hOrvq76hSyp7TGPkjftMOqequm5+cJIpD5bhks0nmKmPSFQnFFPbdttpxgbQ\n",
              "YIqY+CWUieAKPbOMtcbeDH0mKO7+jrL0yYz6j6qbjDqlcPFQ87eptqbvEwwwJ685kRRoU+cmkA4b\n",
              "S1JDxkly5u1q4TUXWSh9uSSYuqxrJVSewfrnPgWFRpdiLtx/qb34+Mt1L3sgqWKeA+Dp4aRA8w32\n",
              "I4V6SwKoA1ZwXLo6avuc33b48Eo3/gKpUMGFa+a+JPZyB6JlTcHMUSKiMx9fu4TpPL+TG2rV02ZQ\n",
              "OK20o2I30TnNQMRiaUSS0Sn+6qgKhHI5RP0XxsfQa55I83TrP9dBTk9lqa3xOiDwnNoXqmFayF3r\n",
              "CzFWZMUmCqoGtxlJXdlz7CGyz+aN+nQpKlXsn3WIh92IPV1W1X4odm9oT8OE0hIbF2uy7WwaSExm\n",
              "7xH158Z3tB/LUBl6/gPCJmdfM7MjrFme7T1XfSA2yvnV0+YCMy/lM0UaUwYxOcQ2KYXjtBI4DuM8\n",
              "ICjsO4cv12SJF3euK0eunhHZKs6itWWchJPuQp0lVe+GfdxJ/LtKDvBDzhYTMW6SDIljLwHXAGFm\n",
              "337hvPWUbAogzj/Bvfrez2wdZkzCyRWkq9tDkVjvlIaW0NMwhVviFzAxRz7FhQvpaautGh7M1Tba\n",
              "CS0TCCS8j+JsoSeKhJn3yZkqNYncmRz46IdzXtHpvN0WjycK9PIsR+ULqa0YQ6ZN1Zp7KJmdR8XS\n",
              "kAkLeQ7hk/bG/hzkq1P5G/aDZNFO8CXcCd7R1LDmrnlc/9id4b39A1za8OrkQE2Ppl4D/LdvdE0Y\n",
              "6x3+tixnNmlIfetioXcsGw8wQqhFUB/gTJFsWUJm7Qc9Od2P6QENfDIIdVV5bNh/WfTVGbDEGgIO\n",
              "Ys03nQhPI+QH3lZeNKyf6aBJD2WTrRBa4BJIcCI8lCUs3/uy87wZzXkzNv9bc8AYv/6xwOLNzkMG\n",
              "qrrwoPFG/45FaOSb7kFNvF30LXUSPUv7JNQAIPaoDAACpwAAA/RBmiFsQ//+qZYBBdwS4BPKpAAZ\n",
              "lquBalY9KWd8yn7xzA96ZFYpwlx7qe7/13PwLuYP3qjDiU+AFi8JeelDJ/dIbbnzj9eQnM2aIyOD\n",
              "P/AuXi9eeJ2Eqc724f4IyuV8j17p94Om75VSZzbiFH9eXzuCTg2HCbAAnbR0wAKow9p8LFTsK87r\n",
              "RYpHMxdrF2fKG08zEVSc9T7evIqhY4xY3iNcCdy+n20kGG+TDeBqr87tP8o7Adwy8Z42s1ayQTzP\n",
              "QKcwxxFvQjuuT9yf/hQj8e7Bg29nsR/QbanQc91diYYPxa2Eh3OtgnKRwv7gzzGsnfZ6U3T9t8Ff\n",
              "7l2xCJ//VLzgwSkKIBKApDEel3d39pGgEd23PAMrQpZnvvKVZYo2lGUNMWNe2U6a3jNHL5WHb80E\n",
              "jUXVtI8Mpo7coH9PxclYBjiUz0tCn1z9bhVXeqeTm75e2t6K15ia8ObC+DO9gU168JpguIeL1cJe\n",
              "Q2ufONl6L7JBvVNQ+FFHCY51QD2CZ3tMRa1lXHFzy3k0QzThrNciAB1CaBQfUua0WMwHrYUsM/y5\n",
              "8zxmL+1Tl9YdsZFvug5Y4jAhw88vRYP6K98/G2nQcw9KdUAWRyByXTQySsHgjNV5ycqqsxbQ5d+b\n",
              "NvvE5lSEZk9g1xCF3u08zwNFN5Yffd6hx5EPinVM1fxnKCiKWQ+d+evvS/L/bNi71tALdwjLazCa\n",
              "kTAAUB0MVgPgVoJRyPQZzvFwUZoUXnL9JzRFNnf03vAcect5S7hO28XYC26WLAD2GpNCkNw6cAlM\n",
              "LRgSQypp4+BBQklBG7Tc0p0E4wQSDlHoX8EiQksFG5T9pmYMnuMqyfw8KrnxaIlqBwce2g0LYPLy\n",
              "/N5Sr3PgJ3Jtoc1UxJulcAhu7NCLQ3s/jz64L+yct5cGZ7Clf91sAPyn/DwWbwaNzejieAIFhAJJ\n",
              "DSV3jtynuxBsp7fej2I8eY65wcmmiRDD4TdgJFIYAtcrm3YvOWfffEViyLGvieY7BIMDUj8XyjKD\n",
              "+Ul98RjvkwtvnF/GbfsEyFnQeME6RUVNt6V/ayyQsn8aLipMTxCIpfIMWkpS2pbRjxN1YgvsCkMt\n",
              "WJpgnf0TIBVIisBAtIiiFHRxzF1X4LpQ7TZSIY7+2xY/MSJeSFC///uQ64HCncfkiYENPBFCbgk6\n",
              "IpG2Kihe43iDAIfFNZt8v48jI4Wazu/rz3/+I89pZxc+015zLVhPvzEembEDOJYSiJ3iWfr5YE2U\n",
              "0GG74vwN+RFgXOhYPs2SJIvZBb6tCLCpmukJ+OcIiOo3CkYzZTbAQOUCBpVtz2Ap1qisa6eWV/PU\n",
              "zUMKNSKnEen11ZsERKh7VOpG3ZOsVgiYAAADJEGaQjwhkymEP//+qZYAA2Yyy8dCAbY1Wb6CYM5c\n",
              "ev9FcljFyHfQuE63vt8BtmSiH/sFXX8hdPLtRKJKSLx9nwMpejagU7nCUNZa+rIsLMkFEfCLvE9z\n",
              "c+D8Yj2Xi1lk2W76+QZ6+GkuYqUHnYjPxSBYVetbbgVE9FwtCDz+o3u/7hE7cgsoI3fqg+VVej1h\n",
              "RM3myDOC5NjmMtH8HmHH0DGc1qAsXXKiSlO+IMDpZlnf873P3FjtaT6Ske6vmg16ZZhphSZcR1Ih\n",
              "08zhoU1u+XwY9tYksjAxdTyL6TfaXyHyVj0MeqaB0I2DUKFluEAf10ennavLiZWlYuHIIN6MGasj\n",
              "CnY8ySC9mTixWLSwzp74hpSgLVb2flD8WE/J7BS2fSqg0Q8rPjk2Uv3bgIb+Rqip4b5YLrd9dEng\n",
              "IP8/4WEh+SRdfBTrR6RMFU2FB2fPj2bvJi5HkLv4juwuBW9+sdMbOx6z5YpIWI2zV3EbItru8TXe\n",
              "QgHDni2XPXVksDGVof4Sz0Rl4uHY+4eRYKVETRsli7Y1kZ8+YBnTKG/13KuDBj2uT12P5RQa+gr5\n",
              "aq9DLSk0PO1xWD31a++OjGuYz9BplnSDGiU1KV1C2om+NZmh3WWZUoyZw/NHswsMCFYS2/FZeeZE\n",
              "WZ0+OmQu0uRq+HRfaSRZ8UgHq8o+ofe17IRO+38Jee0SFUx4iQZHUed8yy+G7hqvZj7f051byQSc\n",
              "Wv8etR2yLo+7WX7ocAHeydgQb4cEt2zsdI1Y4b7qmpwqAl61TLvPyCdemDivC+Gy13ubJPEsV4lz\n",
              "PZ/vVgmfk+41K4hTxviyoaxYcCI7C2J/jnwA7mpwT/90UfYzwebhixPTxvvwnTAwJ8Rsidm7zI/Z\n",
              "gkhegxqh/VDrM09XBsKHlgtcYCi+iqnLRAdXgX0a/VFfFAff1C88beBReuCuBDZ4GuaFLQKfssAl\n",
              "bORtEhgGtYt/Oz+lP1Qhe00KsGq57LgsvwrOvYdzoD+selTW2OO+WwEWgXkAP+y5C2XFqYgG/Ahj\n",
              "aL8c1BjqW3ThQPX2597xFuwTX6F0g4Ks3SeLbpbgcHbwWwAAAqZBmmNJ4Q8mUwIIf/6qVQAA3jbW\n",
              "yf2fAEwBpzR3Ac2Rnpe27DovvEozR9R57xYU7cO0Yfv/1tZ9UBTZyLkTCGuLvCmNqUF6oXWLllhi\n",
              "X49GiglMsIVxfgg/hJNvtmb/Kk+mOHFT+uo+qHYLGaV1e9Cqjs5iZpC5JkzA2q2AHXKT7BLCqzNg\n",
              "OWytTXmiwV3taaS5fH8WeNDsdIz3TjdmTdRq9j668SJxY2MpkI4eDrpHFAd43NdNofhy9vm3oTA8\n",
              "aAlvlZW6dojICjX02MtSM3z3g7BNdGM81jLNLj77USsIA1V9ZpkXWA3Rw8PCN9Jhc+ArLyXo4cbN\n",
              "KH+jOHLQA9814lyxHCGR+nigcoT8/1oFQCMP2uysUU2XVuqus6nul07rlAcPCM36HZqWZ5bA1qm/\n",
              "K9bu0eN7fkFdCIZcck3YRrMeNXWhXFzlkf0BxncyM1shn5mZTGpvz67WXqpHwl06kMY+o6ujD46c\n",
              "CmgjNjk+wGf+mR3gIT2gixbgc6YtMRRfuIIS0iVg3zDJoFBbPrcsyEvshOHnoQKI09LEzKc3m9ln\n",
              "zpgp5tsxemoBJExBa2GgANrlZ+GbK4K6sVx0hUOh61yNKAIfnKEVP04X63qb7ucvvKF9NUHKjR4F\n",
              "zku5wxH/M8WWOCE7vHW69xWrPRW/27VQbtqraoik5Z9QJr04Y2zTC2bXLDDdndwY4ginkUMnWYma\n",
              "oQGoAWC+7dsc0+6lf8x2YGSJD1qO1uqef6KllvJjOln6uzyQEX72lvY5ysQGq4OK+MlfP9aYX8X0\n",
              "vxpbBAk13rhfOFF+VMqNl6YREF9pNgPU60py5cDwh+TqrhDWeCZ8ljHatMncEVrfOLgMRQMaUOtC\n",
              "GrD/lMv5mM72Nap6dlPXPi/U+bL1+YPFsj+19YzQUY8AAAJ7QZqESeEPJlMCCH/+qlUAAN8Rr7iM\n",
              "0AOT0AipPHI3O24o1LO7OOGAYMSG1Ois1+PvuVRqQlltZOhyQcPce3hguJG4TpZgSPU53GiiWiZn\n",
              "PI3PxB46he283+gENlYFRSqN+SyiQh2xQCmo7ZAwyq0AQ6vOoj+LiMQbZ/vJPiSy47B6Lk9TlFYr\n",
              "DId8kH7Az1xdNnzOlK+KNzM7u1EqUPfXo6SSNH99X4rUP3m10wUXp5Y5jzsLTErEEYhVSohAe8IP\n",
              "8Uw7GFNT+8EI+jult16Fxu0f/Xj9WERisQVYOPdO3LDXmrezNpjdceLxMrDFi5JLXCoQqnmCWJ/0\n",
              "+yz/HVBBpY8Fx3itTeHbRjtmVX0u5mWtPqWkLKx2nqGq78deDP77XBIASCwScGcrh6TDpuKXNMU/\n",
              "v2G3CTdpyDfsl6fsJ1BKtDUs/YiG5akVMElP6ZYV8pbvCD+ykBYTRyB+yM1tFAyr/wuSZnFsqOwF\n",
              "U6rYbvXYvp0iDOsXmNLQI3WBr9SoIdgpVMPYPph904gGYfo7KzFEMAlnTrTKrnSIBioMjIMV+zp3\n",
              "CqDJPckuVRYyT3glgUUmsm6MYkZaGUgM1hQ95CPdpd6J43fG7C7sMMXmss4Ixvaq0yGOUDxujz/Y\n",
              "P/5qjB/xASuXLdKwSSRsDAIG8bW50CHb2ROOgkBsBCqc5p1cRoVwN3CGPVB5chCMJGoaXbZ625pJ\n",
              "KdmV40SXlYjb2nLCJXVVoQzZ8GOjZumaRgewSUzV/RPxU7QTvntxz9791d7rqidyW2Pv8wKnaevQ\n",
              "6oLaBKIRa42OX9VVhR3xEREMuF0JcHn8fSLCh7+Fb8oDXZQ+oI9uyuRTDOEAAAHZQZqlSeEPJlMC\n",
              "CH/+qlUAAN8SEFD4wBfMrRAzZ36kW7vI/Y2Usam7Q/cTMVFu/Ufa7fcLFRvUHGJYfQwxbDl3hDS0\n",
              "3vDBlyCA0H4BDJlAkuweOMKMdueh0y0q/XawOZl92kJsTNX7TlwlTRzsbJhDAlkojs5cA+Yo/6/o\n",
              "2mXoDiUZIMXCcqEqVtiFmn8zwtnE+xBny3OvmwWNqyHplruFAzX/vol1TCd0Ka9wMr6oA+BeFt0y\n",
              "fOb6cmYQk2Zc4QOttsrQ4ATyvSSWekiuOenWVCB73gHsrf00YE4+NcCga/1lx2YAsqfaax/BCaHb\n",
              "FVHFbFN5f+QqJOzzmsPKWST4rGWpHQ4QDtki0h/a1JSSSX2toVCLL1U+Yui+xAJYlaXfKFpab++d\n",
              "/kT8ebXKullbLk4NkZpNRCneOxJql26dcNIhVGwL7nM/w5gLZo6aVdGO8z/s7+2u9509zx9drlwl\n",
              "jk/6oFLw8bD+0UBxVGlSLTku8HqFHaH63xsT6XBBpEgTabmBfmmxjWVEzJBSo0L51CKdOKtn1HKM\n",
              "hp6+8JSQmJ0UuAt9gzqhpLo/3QgWiqF0Os2lhtUJbj0L9AIrLgcIYnU5EvsFoZzt3BHgJqzU92Z7\n",
              "9SYQ4DFFRgUAAAH2QZrGSeEPJlMCCP/+tSqAAJw2xIT6ZE3xHT+fanfyAJZ8KAeWu/N61f6gFsoB\n",
              "sjiqfrqmX1kLfIePzBK1MfkhSMgEwD5GZBoA9ENluEBtuEt1+mwNQT6gnxUi8p0ClZ3YHv6AH2k2\n",
              "OTzh90ZIetDJD3hT4Fcckm4P/BYI3oslnrV/NaPvmq95YKGVRy+RCRGLfbOvxTBzq55xRSkp+01r\n",
              "SO2GjwXKaoV+R4GlhNHMvyEdrRtxaWJpoO5GvdIt659PJOR3RRSRgCyJMoG3v+uJMJsK1oaYvIgD\n",
              "EHkC+Zyf+w/jNoUBM/p0gWeFgj/G4wJv2vhLmpY2Lm2Q6KU8OBJhItd8V1jDofKdk0c3K9XbboHV\n",
              "JIfv1wQi5HBtobL+8HNU60Ijf/GczFJ5XrEyS+tfh4VtfGQv5+Dh+S9DdDboiEDr+QfGItPo1onc\n",
              "UBOFbsQ5ca2Dl8oUv4Jg8+VYTwi+ezxw261cwc9Icc+0+ggXUVPzUvU8FvpdzfsGrfiqu16pntKI\n",
              "Wsf9zAYuevK9qn6hOYQLQjmYPtcuO3Kc3vI1HyXG788UkYErqvpm9C6Httgug+2SNCXuDDN+kfYB\n",
              "w+Zqasita53HR0vRoNnEzVP7yqofYUZZCcZhHF64JlgC7V4dZ0TutCXzgMz0mfVs34TsdrTg5Q9R\n",
              "gQAAAyRBmupJ4Q8mUwII//61KoAA3tlGI/4A+qZa2soENZPEgsCAGtpTHmI5wo7MpZzBH0zw01Vt\n",
              "AHoFKDwecFLta1l1hMNR07ojnP3RI5CfuxuObO726YXhuO0LOz4Y5yFR9bHGDDH3yNwqWLbRH2uV\n",
              "kRD7ENjj33jq5FhXZPZa9AO2fVGhXeX9F80DQjRqWl7/azOLA1SxvlI0hYRfZb/3AzKj1kfNYyuJ\n",
              "UKFVc5P62t94WX4+w4IOqIcMZ1lrmZKL0gLyfdeh1UOII8bu+QzZiiwoFzeHHng/SxWUmcO0fwOl\n",
              "W1NyF67+3uGoNGyKD4w/BDoWIOE3sXsX3hIbKtQukooOBDVJOLP16X2P7YgFbyY5PdWcpKs99QMv\n",
              "KszGCGklmRUMePoy1y7chIFY9hL7+TQPQSn3/UkoXqx903Hosi17Kc6M6HvCO0hLR4QU1BmPJhYI\n",
              "VpBCwxX/k9jGYRXZfoSV+JsxZY9hKAazvt8HR6bxucyHwuAY4GJk4LpiTPrS6tw41jJMFw9RjwsD\n",
              "HiXzY2wk6YDtG58r3d9qho7o6ilLNUXFpFw4RyiKKbX3gmrGzW2gAWqx+kfnuGpPUZll5f8pGgbz\n",
              "Mt/bLzDtkjEHUlRHQFSyHnyaQ7qwebdBy9XmM5tqKHcPelAGe/M2vr4bWPkGs1EEcm0wX+slYyqo\n",
              "fb0DMvDi12VGAC2nSXM2cKwUKn2h3mLiDSeQCa+HYh8Ag21HKWkRFia2rppFJpMbAqqofyVRflWY\n",
              "g/lRt/TP6LD6iAO1iC8rc/dxT3EWGPH7XDk3xliSxEBwz3M73B7r9fHJsQkNAgEaKzyKdyJiu//A\n",
              "jrw2jjj2q1gllg82//GpmEGcSU90gXvwqBe3urED5yWM74+ESOr61b02GTQfbtsg7gLaeDsn0TWN\n",
              "yMGxl8PJBb5VhPBSBLeplJMSuBCJppnAmiyIpSAZarp/r0zJ3QMTgZJlBjdMeJiifNbvA1lhSA/R\n",
              "aZIbGTFkunyPLbNEPwt/2BpNd9DyrjhV0vv6yY8HkG1XtSfbqqlnf7myD0LYca1rVAOhnsB7pGPb\n",
              "vW4WdiL8lf5VqKUAAACCQZ8IRRE8O/8AOylm3wejX0DTWD7KQbwg1asN79pSPN3ag686cyf0oiea\n",
              "JAjZ6Zx1lgdFRMGbvcp0MSrVZERdfHtOTTAz9AOg808w1QyiSs8G9T0yGAHmcANpX1kC1Aog83Af\n",
              "7HB1u63fEG0ztceoPz4mPTGQLy4wyNCoRmClZ4h6dAAAAGEBnyd0Q38AVlCbyCbU0ld1urtyvrNg\n",
              "B2PrRKY59p2a0Mu4Mkx/tG65qDWIBF9q9evULX87QDk2hij6rjLxAw94VJn/m0msRPFr+MRBk4nO\n",
              "rxUQsPt62zCT/p4fWwwU+mslAAAATQGfKWpDfwBWX7IiwrOwECtusN54rmnGLTvxMxjlFqnJtVNz\n",
              "IsKioSURHQY34xec5woSZdHaxodI+BJelvD3LOlGRS7DrawvaAs4QSlpAAACe0GbLUmoQWiZTAgj\n",
              "//61KoAA3kMvq1SSUQAcntyXmqskQV/4cPX4LLLShkRcGNvK0njUREk2FDd1y0iy83+pf3+KKFs4\n",
              "laZoUEa87d8S99r8gB2pzIwROCKdsRwfBz8I33GwvGAXe7uRzmge/NOH+4MZ7nUWpLWWiDz7NyQ1\n",
              "z28qdsaXNCTcpBgPlMSK9TFzXc7dFkCPBFn3eywybVEqRnZ0dU/muq6w/TPqKiHKMsd3InaqxwrH\n",
              "A9ZGJFSbnyzfLc3fAwJNJPNRRh2FDNgPjZf+ZWAf08ysB6lHEn9rVklQCHQWfdenema0JlublCbW\n",
              "BeXwP4HhLw3GQgb9h2t90b85uXCvUtNNcA9XnEDBX3hvviuNDvnihwoLsUHJKJSo999NYXp3oBXU\n",
              "43WrUBDMUEaCTfGiDtJ2gSTTbYkkjtPJNvcQCl5wtbvtwhR73Gpgcv2T0SkewfElzzaydGx3CVTS\n",
              "BuJ6dRN4YzM6Q229eclfVT1sFrz1Iu5UI+87pe9lEeAGfO4DZd2Tk5EsXzCfAiDeEP4rI0dWNxBn\n",
              "TCybvDD+eZBcQ687ruKxrZqV4iD7BEbqy2THZi+oOJphyn1Cyv13dCLO4qVITUKeMQ81sJShCVyY\n",
              "ziUPGEmtlQKpeU2cFN64fUmSgoHy7DF3GjOzcuCgiANAGtgtnYOkIKOh9iZYE6rLPtSBMC47iNez\n",
              "igAvVF5vSUiblBKMguqIgXb53XxS151LaQPg5pJXI1sch2bkw7+15w6EP02JaD7gJcFdnfrultir\n",
              "Bs1bRYcvIehjF3YjXqOCVb6+hImhrx53KI1m4L56FiCreMSarQhh7ijk2KK01FBiieNyePdgAAAA\n",
              "WEGfS0URLDf/AFZmhwdhqO9Fe8nqsa6KqKovjYxVnE1KUA2h3Fi6bB7LM0NineRkl1CNChx0B2En\n",
              "I8JU3klPOpRsQBGMWv7LA2wEZvb6LPplH+WV482/s8oAAABFAZ9sakN/AFZfsiLCs7AQK26voLTc\n",
              "zxDO9D29WqAwmt/JBInSg5WOmYzG0AKYAjPG3hF8C6x8TZEFbrYoEsLv7QzGpCFhAAADt0GbcUmo\n",
              "QWyZTAgj//61KoABvKZ4PpyAGqRyM2+BKh/uF8c3ufyRTC3oY/NiEy0IEsKgTxUFQIQtW9RTF4gz\n",
              "vKJDRkjXR4R/l0AOoVlhqk6S9KF0fvNBgm79ei2a5lT82z6l/KvBepeNWbNQ8U+7tebr87fxqC/b\n",
              "x3DWsTlqCSnx1nB/y/L3gXpJoxa8C5favfruob2XvftrZQnrpk7lxsjyfyCn9+/LqOqDPeRGXIOK\n",
              "1E7Tex4SMREmL3ltp29qCgG+ORdgBh67zrt8yLoqprNJiy9bF3JdMmUdBBMhsZM/MYo0rL1eQX/7\n",
              "ViC//eraBI++R0G+At/e41lnfh9KcZa/Au4j1DCQx0yq7uGk5jWwF17FmqkdptKpWRDYkjK1kaUt\n",
              "bVN3oN5D5PSF6w1Q+jKVmc9nxURUeDD7LuwP7hMVrO1kCSQe8vNtHYCjWv/quRM34ymMosuqFbkP\n",
              "o+Z5Mk+6yT68qtzxOznMXgiGXM+eyKQD6mvChFIV5joJg4zzrpVUgzCBkf4QYbv6YllRYOGYMDwP\n",
              "pW8irEPJ3QFapZ7XkecfiQ/juqicfFlq/nO+LHzaOevurxaUGNrBSUYUBvrCoBFXLE3VL1P4tm0p\n",
              "saW9u0MW43nHXuWm0eg194xw61i85XJr1lYJcBjW3XUG3kEnD0PkXIzSc7DeUqVxZIO8jeh+9gka\n",
              "D7lRvg5GGN/fh3exf+fBq/EjTyugCHoZuCUyWPWKmpYMm/J3Y0ftiEZJ2CMVhm+eUWWSE+fxczb0\n",
              "ftHi6RCXSBARMzGcwpI2/daBRmrWSwITUnNTELsO8oXuCyKE4NFurve1dQflFvPv83jvJPTspA+5\n",
              "s5ajdTAcg0KyfC74CaGQjJiMa+a4YU1HkR4p5Vp2R7cpJn35RpngcoXE8ZvXdpr71SvmMSCG6wG1\n",
              "rxt5vF7w7ZE6yFIJT5wfK9xm1uAtbM1ktndgoU6d4mip5unwIzmJaHWFELV+derAzcqrW7mo/Rg+\n",
              "763zKzHFtkEp4XTpzy3zmkN9hiVK5gK+SdXlUX1feIygToc6eyDfwlqSYZYSE3uHoeQfBhM7xIRa\n",
              "aeXqR+KL8HYScBgVliu9rOJPiatzpT735TFJ8d3uO1CGJz63H4FwoZTJSj/d8W7Aqjz6qRmjyMqH\n",
              "3oUxiMT+xduhGuXu8nfkHT0k/2ANAHhKZdgjDQ5T1civwpzgMox6HWmAigp2M3mgvkvt5JG0XzCB\n",
              "h23sVuyN/58Zcn5us8e+rneplYAFuVlylGuy6bHJKXI9UQAAAIlBn49FFSw7/wA7xLYb8jCV7pZR\n",
              "09hVBBbltTpMr32KM2oXec84CljRPBuTGvgl7US14sKQtgYrO5/I4U79CUkqjZM6qAFpOC9b4qWe\n",
              "1+8iZTy86q5pDjwgMBo93Okid6PkhYGz08TakD/aHBOwh63/Uhi9u/+1PaHoEJih84hXxbdMQrhb\n",
              "EmdrgQAAAFABn650Q38AVlCbyCbU0ld1ur47hTygG+aYEm1u10R8MJLR8IB9iwU3tDd1OOIpfTd6\n",
              "DpBO2l/GEYeh5bbh22DJ2Anb6EoBgPRjf1We0ShJQAAAAFUBn7BqQ38AVl+yIsKzsJfoP3d0TIjU\n",
              "HNSUgBNXBRtzD301zLVVEhY9JwRaDZ7aXV8hVf8YN3YKfWbDxXl4DhZLz8BdEd+YbxrdzPJk/UlH\n",
              "EWm2W0DgAAAB6kGbtEmoQWyZTAgj//61KoABvbJud/AHcTLmXOS0LjgBK5tjaLdttMK8snD6rE1M\n",
              "npDh0vT0VKRf2UXNAuxgXqf6AUNhDIDuDsFb9QebjbjniyaHynaJbaI8KKTzp/ehqy7N7GHdExhH\n",
              "diVMpxhOy6F/T8uYNgdXszwnh68I4AkAIbau56pf77dvLRbTDpeCGc590+WXHwqw+QscXAKGAHTd\n",
              "2+w9HFgkxL9Rj/Br9Nluo380GH53l6/4k5z2gJVgLPyTRtWN6QvX74Hgcyugw7UjMO/zjYpKEdSb\n",
              "KJkP/gRewn28qdRa2isO2hToMR514OnIzePzTDt4pWqy+HdsAAo5Rs5YlLtG/e3B2KQBw6b/tk3a\n",
              "UaBreLi5UAqpqxhxpQWYHp62Q8i4WmMcPZn4H+94+CQGrdS+JoiGV4D/InjF3Zz1H3zqhQ8TDd35\n",
              "KCuj5IXZlBcyfht7g65df6Y6QFpI/1DfszEdMiztt1IDt9CY6xKib9XRhUaBG/X2RQkjJNtAoOed\n",
              "s9RmRPB1Ac87OCjYlWCUAO3+U9P0m28uhqyqAxN95egGK1cdNcoaL/QsmCUny3ShI3U+LytOrfGr\n",
              "J+H3hbfaGNBY0IjtD+KGQ3EmstOrGGtb3LthYDbtxD1ajUx1b/Lp4esGbuEAAABPQZ/SRRUsN/8A\n",
              "VmaHB2Go71yLCQ0q+TcUmdd4hZOBf1dwopRRji256yZ/hTXDM7wphrmSsv9pt5eHRuVjClPC27cw\n",
              "ck5ddUKbLt6P68GbiAAAAEABn/NqQ38AVl+yIsKzsJcRtkEEjamnQHEfJH57MzjuJCLglarNuOVU\n",
              "PFF3kjyZSQwcauRXIG+mw0niyTqERFZAAAACJEGb+EmoQWyZTAgj//61KoABvooXG+9AAj4wwovm\n",
              "20SbgiT2UdHzhk7H4No1uL+nls8AmFik7oFzJwzGcY7lZPw/wNjEYDVkLrLn7YO354sKHvRTy27x\n",
              "0eBSIy1mJ17ACcNFEU9EFn5eOhQVq0+GpMYwRWKL+QMIsgWFQNRemUleq3zHzDCaFh19yRbNKJZA\n",
              "DW50SrGKWqJreyDGaTu9oML7I6vXxh0Yt0A39iv7+Qn2XbmzdAVRjx3AGhNtNqjydX381FK4X0VR\n",
              "JUCRBZjRmHGMDeXyY6yVTkY4+uZxvuL3T8Cp+4k2QX7GGQAB4r2/6QwcREBS6GDLaOiuvT0kVHWE\n",
              "XgHPnBmu96p12mmmsWThRNgZg1+O3T86rlA0dcAXJHoGWvPmdVpYtRV9XrGwlGr7kW69Uidweiy2\n",
              "g0ZbcgdK2UG2BSp+7nuikU8sDqpHnYa4RqWRq2ajuCr9CXL3OuK0dgDy0O5Ga25gS/komKfiROls\n",
              "wkEJLH/Ls3mqlyyUyFdWIA+kNiRPczyXfCDY/oJxg9OiQJxfEDXL/WWLxZ03XDoWg53nPi5bbi2v\n",
              "VlHKnoZKQEQ2d0WGjDSuOCZTB/CMy4BAG+GWWhVWrsFqN5zYY1f5EkVYQrzWUJqrj+J2j/8puegp\n",
              "uuPtcWeWd2MYc2SK49jyyIojkrkKdamLHVyv+WT7Tb/4v87FuSJHZP508yEi2h91CJtfsjVV00pv\n",
              "oPBEk9chAAAAZEGeFkUVLDv/ADvEthvyMJXul44Lh8GyQU/zIb1XYA8NZSoKqELXpuxob5vG9tkY\n",
              "+bqMlXIASsYtb2SYvdG8UTUn5fQu/x9A1QhhjRvZu2TBK1fk5i7M+IArkrjrZdcdneroUUAAAAA8\n",
              "AZ41dEN/AFZQm8gm1NPMhw9fHJMTPPLWdTgDsolYRTWPRJjzKagMg4WOw4alKJXTkQme4BIaWe6J\n",
              "BU3LAAAATQGeN2pDfwBWX7IiwrOwlT8CvUYTaaAo2VUOFnlK5esrlS821yWPzVvmh9v/hKXLcls+\n",
              "HWPebSbpt/BIk0P1OypQZ2lm2aHJ/GwwvcOBAAACv0GaPEmoQWyZTAgj//61KoABvooXHjnSAKRa\n",
              "lu8vubj0BcKzCWZsHNIufU1Da2WKJ+d+V1ROP0o3Ta7+GtQlzAnow1gI9PRjWiW3axykxGFEc2eS\n",
              "WAK/PmGaGC4tkUNgXHyQcSr52KKOkwBx+hnzT6wUQ3ytmPoK7lG3Mkn1GQQdMFfRR5eUIBbDiYVV\n",
              "Nf9VnkfoTNiaq9gkFWT78sKUNQJBkrgtZJ41s5mMqOnxK09ZZgZVavFnC7PYCEC3YuN23ZEnORCC\n",
              "U1fu8rMFlEeS3auYJbcfBihhdtV8CvPbVYdMUUIGDdgiIgaKX1zwGJSIG7ZIeL9MnIUP5w9+YIpE\n",
              "ux/7TYK0w6GNOdf28XAVd4OdzGdNyCupCJhKQjJ0OtQDmDZ2peq8jTMXoflIv9jc134q9J4rmRrm\n",
              "3lgZfA8fMOP3U2faYlBByIqb8fIKE5m6nj2/zb/gWhcV2q5WZ3uti2ARvQLGWfxjFUnfy4seghLq\n",
              "HstDoFX81nDOo3thu0cjF88f7GrZge38U1j0uEoqsGz3zjknBUpIdKZ5ZvGuzQOl4CaWx+Coul9g\n",
              "z2zDX4mx2o3HSuMl5cL+BIRLGnWDyxyi6V2g+W99ObTFUZtfywbutcZ0zjl5XRKWYTLXbkQD1rPk\n",
              "Lm4QvCNOXZM+oC21eRNXCuspaS44WZW45jVZsa0EcmBSUF5V45Uvwf97Gg0vG6qxRbRwqHYESCd5\n",
              "cE12MNN8Xf6yA+NZ6AzSGtFryW9qLBXDDCRugTaEzqT/2TZy/aIdOI6a7ZHXI8KOG4PwQFDKvG3x\n",
              "hOYAycOGq+4f6TURlyCHtLz/5pA0BO4U5BlBjTiXisjfHIL7DzUBWxP6wzEZzgT/fWJ8YsjKt60Z\n",
              "+2U7hhNKcwayQgLoVGYPWbZxbVdA+nTB56cfTLnSkcJEbMxUw//j2rK0cPuCrWTQ6YAAAABrQZ5a\n",
              "RRUsO/8AO8S2G/Iwle6IVkhH9X4csPwcnF8ebKxiAm+hIQahQj1lHk6d4QnDymK+wALnLv2r2F1e\n",
              "64D+BpAi7/fywpu09P2nMyZkrF7QxIM7sQ06MdpdKYB2hgc4Ud6jZ+v4V2qpOoEAAABAAZ55dEN/\n",
              "AFZQm8gm1NPDLUsp7UlnHThpAHpMDo4/F5IyhGvj4KdGxNKxHTjEvNupBST1oMQNBUrED+8J6JEx\n",
              "CQAAAEMBnntqQ38AVl+yIsKzsJftxuc5wFfYdyF+QJxFNhqv37GbVknZpYMKUW/IJ3hFZJV7uRuI\n",
              "vWg53VqdXKPjdXqSSDDhAAABwEGaf0moQWyZTAgj//61KoADecwaTIA/i9DI1p0Kb66fM1mZS7Fw\n",
              "1OYyp+IkytFxC2xSp62LtHoE2EA9sHxIpx1XmP8H+EU6XNKc4ijke4XhfjmBDznE0uZhPJ+cWdRv\n",
              "e/xS324J4j4HSV1PZiq38bX06t1qwj3ULSkhHgpBH7cBixAZ7kwDugVam+X9uEMUZE7p1O/c76im\n",
              "KwIZUQqJ8nSQ7xapX1aJ7tzD8lyUf+53vdAY3j8cj0nk9mRvGDIsbtz8MWiRxFUkgTCmUt6PZz0l\n",
              "tC8lxDRqH0hsSGXsJ6tyKYciw0+O/Ub3bY/BFHZqh1rMTplLI7QqIdyH1BYB9Mh5PjYg355zJatz\n",
              "8CHOyYysTJE/NfEBEpl7O31Cb8PjkexdB0rZdFQTAJ2EtH8njOdzi8cj6+lkgeEETc1WSemINyZ1\n",
              "gCRTrW1t4/F81eWgZm8CO0UB+NTaQSxxOeCj2XplBK3OkSxLIYq6RF9c5v86H87i05c1Eo1fleGo\n",
              "DnqjvVj2s/nsMpbzGS04L+S8n22rcFYbFQm7I2ID2PVXUdLst1sCkVK5fMkBclvi6qQCm9Z6zMzY\n",
              "SDCJqOPClsc85f0AAABDQZ6dRRUsN/8AVmaHCWK01fE4foS9v6lrOnFHkFuX1t1YP8WT29NNjpGj\n",
              "wQm5pZo5ooGbkahLr6zlvtBzTT27T88IcAAAADgBnr5qQ38AVl+yJsXXAQqFMaGaIV9IXsTjugkU\n",
              "C/QNVySgiivn7R1S/aJYVOs1b+R+xykwnhgDFgAAAdVBmqNJqEFsmUwII//+tSqAA3nL+d/AKy/k\n",
              "pj4zL/82SCmJNiX7P7ot6Pe36HrwHB6y3rluZsDmyTRt5xd0jtNnG9wmH1yf3joOaTlco27NC0ZI\n",
              "pkcOA1KEJyQUHCmod2nkRWbOoG/v9dMNUSptEeLpsxyM9b3Lg4npPfaz40L6CJTzD6Hhg9grPqSX\n",
              "bh7trZdQA7K3fzHhiwKTx3w6ZQrc60BFRC716vCfOtKIUJeEMY4E9EJIJf10h9TGjdF2ESNxDtjB\n",
              "+8n+U+6iDLAjq42ogZoHOr3R4oHcG50UZUz3d0Su+0IOVbJCAUs8f0EW3zf3FVykQtpyJWIdtC3X\n",
              "yI2I6Y3XmtSh4YPE/92R6HAl1c0CWHv/6y4V3k+P3zuISMFUXaJLGy785Polejmv0kA4wc9WlW+2\n",
              "swkQ/3TUGhF7MorLU8WWWllq893TkSjCcLNmaqPcFNq4OAPBvLlP0Ye3wCMrsX6x5TslZnnReJyk\n",
              "o5Gc4I2BAvJyAmWsL6w4NkYpwjUg+ckniDfjT+H5yCvw0Wlu+zXHg0kdmBHOXOIGjvM4DtVhogYR\n",
              "tCAsKIJJTzQqbT5yeea1PY9Z7rdO8lI0LjNXj62iBHj2GB25327pcjBZUf9FAAAAW0GewUUVLDv/\n",
              "ADvEthyRhm1oOdDvgDLLOEOITc+HU0K6CzVLoOye1Lo3Lie/L4KsSo6aZajzAC3PrxMVDBJ5kgx6\n",
              "Ltwf4JEFZKDKwSmCUbBLsLDmXYCknuCoZ8AAAABPAZ7gdEN/AFZQm84jKy1RrrySHIfra2UjxN/8\n",
              "via64FLf5UUq40T45EtMnZiw4iV6WqgpHbfbBAKd8z+soHAmuzUugmo1NtKF9Jloh6ouyQAAAEkB\n",
              "nuJqQ38AVl+yJsTaliq1D/tBRz99dow1jXGDHlTeBJ1l09DAhjYIuLtJJ6RulaW/uXnjPgBfKf+0\n",
              "kWsxitUOP1jOyZDYc0WJAAACaEGa50moQWyZTAgj//61KoADeQydu/PqAO8LpbpIVCAFjwQPEjTz\n",
              "C2sjtUuulV7IjjxZlWbLfeOOom3Gq/DzORkc1agwbaB9wUzGnEdvNbgJ5M/LYMWnKJMbGN1M229t\n",
              "Q1flC+bIJZJnpzgkPiT5tu6yx3BdvhOeAegvHDP7mZvqCM4TnnhCVVe6+dNizfn+qCqr3SI0Dqbo\n",
              "HNYLbKdfxa4WAa1HzBRQffKBiEwnFwE9q4WYGuW/KJFWvwK/rmv6SpozIuk9Vq+c9HXivOyvTTYM\n",
              "brWAg1WZi+b7EX91EKF+OKye9cbHONGzlTabNXx3P+VbpsJ36nV4hd6ofHpjhbOIOUFLy4cgUWjO\n",
              "r1QeX/W+2GWh6E7Yr6IVdC59sXuG+5SXaLvazSYvvxLe51S7J2p7lj/giIYtoEVtIYHTY05wCTKi\n",
              "nl32dChaR0+U9ZJzWxX7BvZd/GWux27WgjD8QYGkgtZPCU0WU/uirL7DZ3aG9JYAWH0eabDv0E+a\n",
              "OOahXSR7g9YRYRfwgohshtqxRSBECDCwiyU5DSsyOQgzrmGJZMt4wmpucEEdyp16UjhiWdh10ixp\n",
              "PL35kk4VYY4vNfhCF93TP7rtrTW5JgbZRYSB/Ioq2t6fZyfj5uk0+BrwX4hUOYoX32JRkRioa0r/\n",
              "RI9a6GmHyE/P+jXEicHlQRuMbf+B1zI0e98SZd5ZlA1PTAbeX9r2Wr8LPZiLFoq6eVNFgjt2ThRl\n",
              "1tv+YdbI+1ogLFCI13Jnv8jrBRz4C1/kyfYFhefeaEyDo/gzzwAIWP2Mh2SDEh3PNwGRI2iKvmJv\n",
              "UZjMDeh1JpEAAABdQZ8FRRUsO/8AO8S2HJAEjcKsgtf7I+MiL9yWyfWtKw1B1/w7Xohvih4esc/g\n",
              "LTAYAW55Vdmb86dnV46LUqRG8V9s+++bPcl0IYb+CaqeEN2Wp175cInhYvEkDSZBAAAAQwGfJHRD\n",
              "fwBWUJvOIy4CDwtApitKlqN8tIPeFot2NZyp7qNXwEwEmKJJd7mKftJHtVVaNuwnOnnvxdDrMV6I\n",
              "sfb3dEEAAAA0AZ8makN/AFZfsibBfc+GJ9EYlVnxIsdnmRF45brrV+9zDNRIUtQ1HtN+HpMaBVGv\n",
              "nP2Q8QAAAjlBmytJqEFsmUwII//+tSqAA3kMvZNx2oAF+X1aPxqNdPePsu5Zd5OOIlP/3qK/KDFy\n",
              "7t8byyt4mkRELED4xzl9jn92D2Nva/MEd5ZfJXCpqQyyhqdbvkVjCKhJ/aYbkgG6pSpr4kabqsEH\n",
              "ktYmT1cVKqSg6X21zAtqNz1uUkIOaBBqnRUsHhdJX5nw8ItfLYR676QM6McIGGiCYJVsuHSjRcjM\n",
              "6jaWfjTVAb8+5VZZf5pbLZoL7yDy4OwROg5LFxOReNFX7TdZ59Ah6UnZgRQdRy6UfXzDHKj33G1H\n",
              "ec8xyhPO4Jwivf9T6YUM1r0IJghdVrdOktgROXZJFKt/X/7lPxQqvirRoPIc+vSetWYBTbYiXraz\n",
              "IXRgjBgNBJktWQtjtqKnM6wPIY35Y8ircdSdfij14nULPHJmijtQQ2GKqlcmDc+gCvLZDh6Is2fi\n",
              "S5TW6V4q4E10k8QhotRTX5Jv5eMKe7MD+8XtOACpgGz4Qypne/0i70FQzSgTSOMc9rnVPbQW26mt\n",
              "eXu7f9CxvD2Tduw4wXxus09LIkaheQd/J9mCoQB56s332NxJDTP5V5yopTB+ArveBgMTuRuoGt04\n",
              "KgHh7aplSCLbHK8gza6fQ1EKg9lVLw5JmhHJlp9Kvi+3tw73Wh7bYMSDcY++OkJ49NS/iZdOTNNd\n",
              "ZXgIi6Qtc2PgKeIU9kZsF++4N2wnIH6BB9uia13O6MKgMvLLKcEww2pVpFsxT/CbTjJl5hRN1a+N\n",
              "i5ELxwxRiAAAAF5Bn0lFFSw7/wA7xLYckTZlPdMXtKxh4TAvwxRgfhpTzozeUTB/D6wE7j4qax0z\n",
              "YhCYzACTqBERkJX0js6i/2O2WNMfu9FX94biBQUKfxDt502eczMVr8jkBha3EI4wAAAAPQGfaHRD\n",
              "fwBWUJvOG/5dcjtuJ/bIEjrDqiyy6kFbOjPI/g9vdrirtpZpAj7BBeMkOxSsX45T7sCCqzAJXQkA\n",
              "AAA5AZ9qakN/AFZfsibE0N61f6F1qbHc/ZS8v7mS74oW+D8EP4wrBYTy73ESHMTeeHPPeiKC4OSz\n",
              "zeImAAACR0Gbb0moQWyZTAgj//61KoADfRPd1T0uAKstqIKpg5z73e36iPljc4AJGo49qfVmPWE5\n",
              "fve9Mc0nh0RGa3TtaLG8iomMf9ccjK7t/Pq3fLvnw550xV3iPSXR0qzpl2F7jLxkZi+kJ4v+lY3j\n",
              "5OLW0kicerfx6pJ1Ewbxz0GN/5SJMgO88fxb7MN9S0kuxpCSL1qbQYMmFxK6R5ZSDNcS5E2pe6W8\n",
              "0r5Xhb6vzHsGABu28ia9jJb7ApYY8Kg35qMcVN0D3BMWP3wquSCgadqv61IqQ+vGmO+vI2CfZYs4\n",
              "3D9GpHXio8Q+daNCV9WsBTKxBUFMhgYTJAXi7115ysKhbaCX66tSWW4XFp0S8Bgfiex/j6UO81Ek\n",
              "x3bUdIubYPbJWOVMdSEPRwXHbfACah7N3jZrasilHZlLhYQIBtAZrfqxcHBfv1uHRK/c+czHHEEX\n",
              "YW7yiOZElpmzsid/KIicZFvbw13VFScsTWQMOxtHXUU52/YIuLpf6but8Fc+BB1CLpGNFyUwunbd\n",
              "j5oK7Urr85iMZT3wIjS+3YwCvQOWmtS+E4Q2Twrg5rsS0MLmM9/FH8i0wAKsLU9nEzc9wCfR9aLx\n",
              "ieOzpPPsdXnae/1z5pxQZY+/DUuqYndmss5e41Ppqb1osHdMhMzglvRWyNLHA4nRkQ/DIm5je4UP\n",
              "2Dv2mIWnpnVXz9G6vHeEHnt5jIpIzC7Nx1E5mi6ZJyhqzqPIny9Es0V43z3oC+A3MYrGom7b4YT3\n",
              "HtfVyhX4U0QpnIRI3Q5aV2PSs+AAAABHQZ+NRRUsO/8AO8S2HJDbq3ls5Dmakyz6SfayACyEN/nr\n",
              "LrHblXEALqdYzJjpu20xo5J0P0MDSbpP6sT+dPTFaTlcWrlxmYEAAAA1AZ+sdEN/AFZQm84jLd52\n",
              "vs8xgLXzLN4iXrzKx4fh810LwZbIXdeXp2YIFBqrJfp4ZeikFWEAAAA2AZ+uakN/AFZfsibF1vOs\n",
              "f765zsziDSdVvdAQ5L+k/r1UEO1xMd23k5fticrC0oqEVi2r5XohAAACSUGbs0moQWyZTAgj//61\n",
              "KoADfRPd1KTUAR9KPGwlpwR+BDyIMaUk1sHaNIsOjp2aZwaaZvy7yRokXf2q1my4cOuKZ++lVuF8\n",
              "1RZTgiyr2lCqo9URx5Bkit0umBZZndKwbSw4+KfGrLGnhIv/kERGqRaaEYYwOahr8qf+qJM7cx2D\n",
              "ECDQwhGKiCv/9JMnmTjDotQl9hHQBecaYmogPm9SEqmtuk6eR7nZZiFjeDfzv3I7ASy0MvY9vgfW\n",
              "4a/NRl2zh8Lzvsj3on01b4c50L5zbv2mgtNxC7OHlkcUsQpNpKxZO0ShPT0uEVnusHE3OxfVWE7x\n",
              "+Y8ImFxTBxrhNKT4zEFtgi0ugO7fSNNDUchviLw5QroV5IORQqR7ZdwVt4nVpmpuHxhE03EFg+fR\n",
              "OjIv/PnXyM96MZgRVOzg8eNZmWJvn72KsR57BO2bo67BfIkHW/y9YBnB249mKsegWrU6KN/GQuBM\n",
              "1NUN5Bps6BKuFMl1hcwNjSTDloghqEggUe3V9vHYi7m4dLi5CRVLfjP0x147RAPQhjC9LjQqe4/X\n",
              "Ev3Ch7UpIxvTbKrXwNfEE4V8Xwh1yFZvW42azns1doZ6lhb+pmTlULf+FJpd6iNH8l9duKyldLPW\n",
              "JlIulSA7u//cAPfG40m+XIOOuuvsPX9T/mg8dR3JFix/wHesQjXHb4T2MXh3RYBMWA8JekIEpaiG\n",
              "C3KxIO4QfdA7ft5mIEPQ0mZyiDXZTL//vdGjoUFMLDhDUJlsBCNs6QVepfNtr8SFh5JwL68PcBV6\n",
              "QAAAAE9Bn9FFFSw7/wA7xLYckYaibWYCn8up25Oc6uykjH5so6xc+oJZJ3GWAEtQzp0Vtotld0yd\n",
              "U2UB/vylZTRWT5cHXbp9y0MPGIOjPDNINxbMAAAAMgGf8HRDfwBWUJvOIy3edsQ9QF4lktU3mpAP\n",
              "OpAeW21Qtq2tf9CsZT/vMi2gUaRjp2I7AAAAOAGf8mpDfwBWX7ImxdoQdxEuq8fxUm7XtT+6+MHe\n",
              "LLcWxIeiVsWqz1SwThjQfLludBtGoNDhlFdKAAACakGb90moQWyZTAgj//61KoAG8oFDZIAn0Pw+\n",
              "lYxnz+zwgyzpVyJAbCF7ISN91zLdfLUhPmU24qhUe0YdjhLMSHyXhLwewI+EwkzrieC1lKCG22vI\n",
              "+L9xUbXbsQZXORXcRXb9cl7ZyqMcEe36EhCTU7f2QuLvnMVpJN1E6HjFIrrNRCyKRQseMFiV+NqO\n",
              "R4p4UI/vo/13zlTTncdEDMZJuEC530JNmYToZ0C4XS9X/eesVb+5HA7+3/ZjjdyTYMmqyyMF+2kU\n",
              "8rBL8Gu5B1mfARVIe5FciI3V1V2ztHLRlrEAJCl2lYYRjbn8FUCUKldcrP6si34Htku/CPMYhg/m\n",
              "0WJJlp9oz3nTw5RbEsOqOvGYoeCrAQi7ZXF7WLUagGVa4PFPolz1m37wyv3/x+khyGV8iLh+sJcT\n",
              "dXP/R8XTBUD7jO7oXE4xPiyuNXNRfqfOGxKvH77surgCiioW/VXa2WXsd4bGjTUOH89vl0xZgUO4\n",
              "EGLLYNoZojX5XU59P7LSBq00IEvX884ix91V0MNQ9m2f/IG6cFIF0EG7z9C+YUAUumqqQvoWwqRB\n",
              "c0YuPW8imQF5j1vymWHOYvEtoj9g/biTWOeSYE3Sj7Q2j2LubQ0Rc/t/hSX/wdFB0trtYg7+504H\n",
              "r/PgxYGzpudka1r5Ea3qaf3T1f4w1TmYIOclCbPxB6bpiVtsxgvCqRflJZX9XY2Jb3cQ4CrCQ3IQ\n",
              "MvQDE1F4lgYVOQ6IfRj3B/sXw2rxDsU7uI6cUSmdc2WwqqOWGqehv6WX1IWQ7tlkBi4JRRHa5yOE\n",
              "XeYXvit28MMzbmBcRWLwMkSiEYY3HwAAAF1BnhVFFSw7/wA7xLYd6pKCi3C8YGbJtMdpr4YS4OSc\n",
              "NlQw+wxvRvEYavXlP5vhKB0OG8zboJN/klACGIscpd/pgLLBM2+d73dxfBwPmHx/ZM0n973jrCaH\n",
              "T4P4vr0AAAA4AZ40dEN/AFZQm9rhJOgny9rhvpNAGcQoU3Gf1RYUAHbi4hcTkZ9Cz13iLJJavzoC\n",
              "n/ed55nWDZAAAABEAZ42akN/AFZfsi+Job1kMZq4BUJ7hiGvrRhS0uShDAJdFREJtjgX3itP00BH\n",
              "Lq6V6NN34/pbw3Hy0ATtEHVUzIlddtEAAAKKQZo7SahBbJlMCCP//rUqgAb3FaaukANVkCII+xGe\n",
              "li+Z1LwbIDbaDv3693g+JpjsjeiTHI7qOx3mfpyLD3Y0167hs6Ar9IjcGpLMHqnKK8Bjm/gMkzaj\n",
              "HZvcIME8BoK+Nqgg/mzSKsVL2qfkbKd4TQ6FLlUeKd4J+Rnqfy6x6BzCEm4fYgRsOis5WRN1sGrH\n",
              "jZoKUO95rpSk49N+CiARuH0KU1mT5sS5ms9r9xhSKqnJ7EHwZEhZDU84tyiuSz/uSJlqN/emh7e5\n",
              "UoPznMkmNe/CMjMVFsCS/oPaZlIgznRv+NWgIPCjOG0w8ke7c/y1rilwSAFReIrhQ5bDV4YzU21D\n",
              "m8pSv3evqW7IpU98Qw69zi8GJwalZvqomVZJ3uugJQ01F59SrBbqfb33yZAVkVFW02S5+hBhMRw3\n",
              "Y36/8QJtJ1IKx/lDn1+hq/5OwQQAk8S1uJ6RTadZfgKPCEcp40l/0ZXGKsI/P6g6kyI22T8c3AdU\n",
              "SkR6KPRyIBBGlxrOnAB6BB6WRxU+4To0f+9BfGlHCEG6ErjKBDN40XQc7eR97rm7aMkYfQhoNO0P\n",
              "oCti0dUvpeBd7S+qeRLPPoOjQpDeRtbJwNKw82vL6CxGZRYfBiMMnJMrMF1iq8o4qV1xgHsrbZkI\n",
              "Wa2EufjFGj/Nqnn3ZhSTdVtBdP/fTIPfpifDpTw2osqWW7AYqPatoZ+qSc5oJggEZIpWJh3limF2\n",
              "RkNhsIbiLtwbbQ/EgHV5KThkozC/9jzYUw3hk3hmOJtrvZQN1DkBzh27vegljZODIh/Or6wukCRp\n",
              "OxftzUyCigrIh5/aw3GndBEzzAP8LbT/oq9q0FS8AFsUjQk2Epr6l3pIwuGCTG5S4IEAAABTQZ5Z\n",
              "RRUsO/8AO8S2HesNRNrE2eSSMGozpRSLAcCGmoYK95nywufeifeKBIJFYLhgzy/SMAIgFvWVJbuw\n",
              "tT+UtMqC1+V1lldA6R/hU3GhZqQT8YAAAABKAZ54dEN/AFZQm9rmaCLBMVyHc5JpIC6wWDTmG82V\n",
              "fWdDh4/0SQk00Sg5tXZON2N9w4gQWajk0V658aBj+YODQL5V9lduJ7D6HsEAAAA4AZ56akN/AFZf\n",
              "si+JofH0OXARDXfDs3k6yGjwjGvLHVyY38rMFB/0M82UpURiSjww32rq1XqV04AAAAI9QZp/SahB\n",
              "bJlMCCP//rUqgAbzl3M/gDnCT+sG48fHap2uRXqcH7ifk9j21Wh3+HDNv2q8nX9YdJ1mQlTV2Jw/\n",
              "Heu6S5jdzvl8oboh2OR5mXNaYZFfeaw87UMcDmzcCX+qVwcXUXTlVOVjNdjuiaAOViB28QlxzyrM\n",
              "NmWzEMi0Ehs9rY5FlOlgp72BBFvVzJknT8lCPoS6dlTAVgtlTGwOPbDHoiRyXLc5/RLKQKQy9lTi\n",
              "VBpCddvAfc2BvE+dHBCl+gIX1Vqu0epS+xpVjE5b4LckIGxcIkQ0TF3HiEJ8sEhbAOgoTox8vePy\n",
              "HouWy8QDmgfLEpG2cu3R9Rz5fhotpzflQfR4AIICIErYtYYBySDbwjVB+JL4q7DddU6lmAI4mYTX\n",
              "vbxxwaAWSTJTa0iwREVFBSBKv5WMlXdHnc7dF7IoOIeKngc2ryHGYMmDs/pdm7v956wJ+C0Vq9nm\n",
              "/+XUzilGoH2KUCU25rHPe22mQLsGlIxpysxIebiY0mCd8NRn2XKBJuL1yQa5s9UBrqKH92nMaVWr\n",
              "YiPjnGPojKX2Y/tGfcfy0BNTKL7SqBq7Mgd9FeG3p/F/aR7iIUfFKkfRsJesEfayQxNp5jGxb6CS\n",
              "QbSZVg47Fr4tTVgKmFG7y7GeuaEVvQ0GmNEhDrzrxQ+iPoJKjYXHs7/nXBhXEpNZY6kXecuhwYyt\n",
              "zKOlQnSSWB8iRQsUdDXE+4XSMhBgGdruNBUUYhkSc1tfD+5bnrsuwDZwwHXnw7TO21fNxRLhAAAA\n",
              "SUGenUUVLDv/ADvEth3qbMuRCuqQS4lww4XngsUfCjDzxw14ojsOH8dPFdHwCkp0RQpVf2Rx2NNw\n",
              "iMyVPhuIEBzM5eO3fjHRQyEAAAAvAZ68dEN/AFZQm9rhJeXO5YZ69uDRDH5C8pvehGvj/gs2E/YD\n",
              "Pz0XBAppCtU0pQQAAAAlAZ6+akN/AFZfsiLCs7Ak48rjVzB2z7JqItgBjeVKNPyRABVB4QAAAi5B\n",
              "mqNJqEFsmUwII//+tSqABvbJecXgAOjla236mmRVK22GKHva1x9XULRnO3+AttbuxiGTwZrC1X7F\n",
              "f/0RZGNG7p+k1pck4yXOV0jLLA0gRho2TB0VZA8/6kzvRSTPnrMXU5QR57rzo4AQIjO+Ol3LZsKs\n",
              "pxAQxhYIhlbYe/DD/OifyztbFKPvTUljiQTAHiYN+AONdjyhz7isjEEMrf6z0rzZdKwd2z3oSBei\n",
              "aSo9OVV0joD8qpWIcVLY/zvk6VAQfhk/EwssliidWdMXKxPNZbMmWgfAvSJioOWeZ94/MV487akL\n",
              "g+rzlpy9GXmKvVSw9E+WXrfsukgk6yRvf6lqwZtUoa5g7jiYxyGmcrY0C6xsVLBEeLK7KNRpKy9b\n",
              "Bj+CWHaGeSTFYspeeRk9Q5AErxh6e3WwsQHnrasjFH9K7sxSbTll0aWslBjpwWedCaVVLGJX9lZj\n",
              "Au8jgRDyx7VDIi7P7k6O+cJGSbSu3cfAcU6XHLIT4HOtieRjMfiVDmwWRU7hZiqnydtGJx+OwrRy\n",
              "YUbYdMxpNlLwmS+UQxmaNRwlpB9MjUNGx1GmTXkiOITqB2KF65FCTvuV9aSqfQQ4g2KS6KIZiOO6\n",
              "i5Or1FJcLd0KzyylFCwunLRu1gPP/DzLjW4kTlr8rQc61qrimYLvTiigQEqwJVIGxbvMW93qZfm8\n",
              "tPQlxD8JARSZ9sznnccFmKAMlx3hHzQQAK9skDVD86rNdbXBIwywXj8SOrcAAABEQZ7BRRUsO/8A\n",
              "O8S2HesNh0pwZhWGqjPFim+QnBhTuZjMGyaBiJgKejYJX/itf2Z9IBjfDlwNi6a4z69/R/SEXJQM\n",
              "GhAAAAAyAZ7gdEN/AFZQm83S2xn69Kj3UlAVU+IlPsQW/U8gSFEebqWdqk551OU73saM6nQlmTEA\n",
              "AAApAZ7iakN/AFZfsi+JtMPKDaQt6HCqvq+6zW/UVTOw/ljBo9h9cQWYlIAAAAI2QZrnSahBbJlM\n",
              "CCP//rUqgAbzmcpwwAsPzO9+pHcix1XcWuX1oGZOkLAS0r3XeVHz/khO0wPKAwNx9zoU2q6BNm/T\n",
              "XFw9N0gDto+CA4Zspu427w8MxvZZDdlDOZEZwmg+SJ9FR+HNFU+rtzaZE/G7+siZY8b8ZldauV08\n",
              "dHH4DWka3SN5ywI5inU9IlXpTdcS1VkliQBHILnWWwMtFNo2VjK4gcH5wN6ZxfZk0bvQ6z9TaH//\n",
              "OkjuC3O+zS7IuK3q1tqMgzgV54kwcu6DFEisimoEqCBwIfa1LcgscIzkUBHt69WrSoMCQK2VLntY\n",
              "8U0HrSyFIi2cIWWCOD9n8J4PxoxQBPeq88mMVw6Vzz0hZ6nO4RmWCBtpG977QT1YZcLZwYvuAG1F\n",
              "ZyY2jem2YA92SnINwpRsiv3lRhUhEDLOsgrAzQydJHrlgOvNAodUxgv4aONihchZRO9UDkWi5cxl\n",
              "L1OQmxExgmxcWlkeqFK+5Gq+laYsiXzkcS3xEV2ysQOTqdEPvkJbFdhBntECsQiNtuO6F04ghm8h\n",
              "2iIjA9EfLx+Ynw0NyW7kR7rIiCpASDSa1PVSJ7tQvpVzhOZJkrNFcreJJ3XkOvIbus/8TeYea1Np\n",
              "E/169/vp/iYsTmsGXXVlIvRMg+FmEAp93EUfkwqoIwi5n2273o5kMZV7xsWKObmL0fdHEm9IYYT1\n",
              "d1JN6HX61PBxK4Qq/OE6dQZibh9tYis62bP6klRNJs/vawSmqfv0/Moqw5kAAABGQZ8FRRUsO/8A\n",
              "O8S2HesNh2w7WdCu43Sujc6PIxhFMVYtENJUEWmqma3fI8/sX0LnEyhJzT3gFWQnX1cYZS7JnR07\n",
              "KxiIOQAAADIBnyR0Q38AVlCb2uZoIsncK66/Fq07j4/t+4HTc9BG82iaUfznEdmHL0iFXiCJi9UK\n",
              "aQAAADUBnyZqQ38AVl+yL4k3GPu4goxzB0y2ETFu3Q8IfmTbxdTUHOCzm/220NhLBH75Dy3GA3Qp\n",
              "IQAAAgFBmytJqEFsmUwII//+tSqABvonnB7WtuemZAG/DzLCz+rwOyOq+Ox2/QNNAbO0rgict/xj\n",
              "EuU5E35N40NZpx0JuuWfeU7iyaGtsr6qhhmy+S4EeSDnYR/SbRqL7D8uoQEXaj1YS6OnlNIJ6Yqw\n",
              "KuIMb7+bgfAa2Bi1saIQ/tqQk0OLYxB4YNHILTISNwlFG093tMoK94rN9Vb8i5Ls9ZNoaSX2Wuco\n",
              "iUA49LUnXV4eGt2PtbyM7a227gqqn3ii/dODbD6N350hiW0/PsgpQXI59LAXwRI+iIIp9I30IBzV\n",
              "HrR4bX24pbs4F+R4uJyUUlDyjLUFnN08UbGI5dv8WEht+DqlTCZmthTeMMhy/cbEF3GIFrjjwJi9\n",
              "ORvIS3FgWHl+o8A04qUHgZK/TWPfZY0IZQMtkdk8Da+uDxhSRTtrueRGt3gsd1w8pZ4GR2RBrk0L\n",
              "secdcF7wVmHNxW/wqk+7aWEqgas8hEA302aL97xe2F80V0lGfSYWp8YMNot55/Hb/MBb4duicfGk\n",
              "/p2gw0ldfvQ4M2xah9OZQcaFIv6xQZ/hhZrQeI12cRZKyiFTmDGxWLaaq7aZfYF/1lp/dHDYw2uL\n",
              "tSVw1BtBMzH02m7KWSkS8fd5mSwrEfIVT2uzO+HgjPWSQCwa9gXe/GdLVLnelDVAnJhkG3svwRwT\n",
              "hR9UjfAAAABEQZ9JRRUsO/8AO8S2HesNRNrFGUqG1eeFVbXWcpsYASQZ+7WPrUApJAvhp6bR+9cb\n",
              "KPuONS/JHxIEluaDlHEwtiYCEvAAAAA2AZ9odEN/AFZQm9rmW7zjeKIsxiF2hVC7i7sJgA25HoJq\n",
              "tGQA5JK/blHK6WqSh1+2YN8pyOKBAAAAMAGfampDfwBWX7IvibTDyltm0GaOFj2kd+rVlMeP3mCp\n",
              "mQHfaiJSfpipQjmRC8RGLAAAAZFBm29JqEFsmUwII//+tSqABvonfA5Cs+B4Y4pWrWcJamQkH38C\n",
              "y9kcwAiojYLSzdhzCaXorkNz6/OlcAk49Zd5i8LMF66Ug2GmggWcDqhKn0N0pRbTI9bAIacETUxf\n",
              "b8wvSzcC1K0MgMnwZVUh71hVecVF+tE0so+8Rk2nK7SisZ5o3H6EtN1Y2Pws3tnKTQoQ92YrqaMg\n",
              "8JoFsL+ULoAoqZZyv8SupiqpNEJ33/bX/1YfArbZFkwbswoGnwuYR5GyJsRTW14uVao7WD+S/XkI\n",
              "NgDxydQ2/mE6CZYEMqu+gBewrLa8TxRf5HxBYKhjQW8Pe/MPBGd3wKUvTeBaOdN0ulH2sWtaByVK\n",
              "dehFX6BPiayqKb3Ja9GfMpQcjIwY9lp4hXld4t5L0g3oX7W45mefkINO90RotbaiKac8qy4hfGEW\n",
              "Nkc0mp7npbJUFdXhsrQ4jG9OcSWc0D7u7cAQv3K+th+AFjdOsWwMimkkbE355XqBTzt/5g0j1Vbq\n",
              "/eMH42XKkrM1+t8HXgdpcUHgBRlxYAAAAD1Bn41FFSw7/wA7xLYd6m1glfgWm4Rli+TDDRIvB98K\n",
              "1uVcIBgyv5krSR+CxBqBiqCcAMegrC6bdNMOdELbAAAARQGfrHRDfwBWUJva5bOF95WeadWieF3l\n",
              "ABjY77VqjgyZFfI9vh2rivtulQhiRVgwBJ9vWVxhXhzBHcJJqyBiad7xTMuH+QAAADQBn65qQ38A\n",
              "Vl+yL423N6datmWre2Xfwxbb3BEAPDvRICF04rjsXeuuBfmMBPKwnod0hpTRAAABnUGbs0moQWyZ\n",
              "TAgj//61KoAN5zN8KAIK9GTKlzMnucbe3ccV/FIeDYq4fMKDpO9p8drFd+JX/X34k1ZXXGZYj+Hv\n",
              "zDLRVlUZmXnCVSWzm8crcuTOIlHiXHBQQ81aB6nb7Wq6rkn6YrG1o0g9H8DXMWw4GwEaGXb/gKqs\n",
              "T7uebSFlaryGhNroEAP9BYeZAGBrN16iKo8h9eXUntoRFuXT9sj3sbm30MergJLkD2LzkR9zSfVY\n",
              "rTnULbuKIImzNWtP/pXC0qalL1eecsSqKJ49MzBTbnoKLJzRyctPNb1VPAyjqtsj4zu3x5kZ6k5S\n",
              "jd57wC3DoW6JS2fSiiaF6kIkYSp+JIm33ABKiaXa8Qt1QNelDGnDHSO8A9dsdhnw7TMN75/q/TsC\n",
              "O3RoOtpgG/dZQZCJW6nYlJiPj9slw8hgWjWNhFwrrz7rgb4Bq0ZTuPeqwIDjWQ4+79zxs2uKGJKh\n",
              "JKotoghlUJ9rxudHuabv5mDR8G/WSrBfJb1lwQeM07rqV050DRmEwumbnNDjySWpByDAe29woeKT\n",
              "4Qs83qFwAAAATkGf0UUVLDv/ADvEti+xsQXBIQvzNFzNMp+vK4fTlHPebg2/pGfIUe6enD8rLl+L\n",
              "mpWgAWz8qlcFZz+hoCXdvEWzztG/kuoHUhZdVVyhxQAAAEkBn/B0Q38AVlCch3q8/3Z1im+lGUj7\n",
              "vJkkyaFPViM0D9/kleDU2ypZ+5o2uoroLq83ib8ppTlfvtARS7M1TXRilHSiW7yLQL3BAAAAOQGf\n",
              "8mpDfwBWX7Kmw2C7nvEp0jeclXVUeKilezPOl49yxJ+QKQ4bdjah0Cb1aXgwtsYTmW8YMBGx0QAA\n",
              "AYBBm/dJqEFsmUwII//+tSqADeUzlS5ABy8fpPt0r6oRKn3rf8TrdaWXusGjTJ0Xafj3V5+PwPu7\n",
              "lbSuZV39zX0vL/nGpkDKDp/c3XXan2HRBfJCQtmN6+6bQyMokc6FpBGVzZjMnkDRFr8lm4+Vcc9q\n",
              "cRmOXsvavKArF3likdDluV82UrI6W5r7lalNzETtyyro+SZxipphcvfbUc14nZ6KG/EmoTvJigo7\n",
              "DoVJgx5jblyogkOZ+VXKrPULCVyf/aHOxo3e6v/20jrXDmcytdeapOHzUlhRWrGhSmXIS7v8f61n\n",
              "OO63fJEScHdV6WbNLBqjI+EgLBo5cLNoqEaLfFYG+Smw4r5ZDxdEsFXGkDerEw4M9eo/+ZsokzJb\n",
              "FLBqKAk1jmT2Tw4NvcIQ+vyohb4TSZ1dAQQnaMqsj3USjMll+UJ/7/GcxGhgk9SY7VIup5HVtYMz\n",
              "0aKCZJP3nQ6gWHcxk6BticMv8b2ssD/SEf7oLQ5MNhh9Hg9N0dL/rXuw2oAAAABYQZ4VRRUsO/8A\n",
              "O8S2L5nEyqqstlJWEcmDNRBZVAJCi1ZTz1BiwEj60tqDsOS8/+OgBuGN8xf2X9Ro4VQt/9fwAagq\n",
              "eh/afcxROcLJ84TobTQKvQ4frJPMgQAAAEgBnjR0Q38AVlCchPOD3gUviEoDQ+JvnF8giwPo+SdO\n",
              "FjKwZDQJNfqdvVNNEAFlFsR8u3wtHTUjZxQJhOovrGh0ac1l73RoMSAAAAAyAZ42akN/AFZfsi8K\n",
              "0vLUVgJ4kJeItGz2/5a7v03hRSeCv4Ndf9wyPtJ9rr0ib9054lMAAAEyQZo7SahBbJlMCCH//qpV\n",
              "ABvh0IVETX47KFV7oj9sl9AiiZ8RPo4gCIBfEWvAwbyra3kQ+QA6hO3h8HNu/KopeicSxXeR/P+q\n",
              "l1BrKZhslnxMM2/9cmpGYKsNJGg/p1lYU/8e+A9PBiYgH6A8Mcfm/Ie4GAy+rXVTVFkJViqbQ92G\n",
              "42vSCqqkd2eGdzJwZ3hV6qAOsh1KMfC8D/jyLQuo3QuAEkc+OuZBDnYv56joJHfPg9h413jCGfzH\n",
              "JSoLz1xHsNIiDuIzJOkRGqrKt9O0gT07FVMFtLmgOK4nB9AKw5gFIakMluTLVnLeHrtsqEHs/eRO\n",
              "zDsW90UuIoYjHWipzLDD4DlyGVw7fLqd5OhI31VJbuKya426MtS6sxo0Z1Vs7VrJq5ARDEoWN6do\n",
              "0KZ4EDmBAAAAQkGeWUUVLDv/ADvEti+xsPQHm22aL/NA1U271bQNqFzB0CXbwB91UC7Xs/FSNeB6\n",
              "bSmDSi7GW7Q6dF6RFPwCEFC7gAAAAEsBnnh0Q38AVlCch7EvSqVLtFii+3N9Ivqc4a3LcZPqjb9r\n",
              "n4PGfYFGTiB52wDAAtPDTQ85JvoSOhnVh27JPukzZw1hr2LvK3BkMbsAAABRAZ56akN/AFZfsqbD\n",
              "X79hJOtitCOGjUXVBIPXS173RX4uqKKnEpRj4V3ixb+wAWJXwzacHckNiLif33izWG7UDpDzojRT\n",
              "JVNTLIUUv2ubrlZAAAAA0EGaf0moQWyZTAgh//6qVQAbzOA8SfUNYPXQY8bfyOjBItUQoBF+sOur\n",
              "ryACyCya0ql86qRG2SDzxm1fDqWh52d7Ij6UcjydUQUd3MevETYiJk3YyLD3v/G5o+vvITL3Jc6D\n",
              "0Lvf0jiRy2GSSP19C7+Q/G0lM6EV5biCajutTmlWuTK9vmbu931g71XzlZInOpgFcWVod5MByMq/\n",
              "BJ0PVKxP7B1+bUqXkG3tYwd5glfUJB7K9nAimsFlAKHV7MwZDA65a9mYgmRZVR6X7y5axYEAAABI\n",
              "QZ6dRRUsO/8AO8S2L5nEjV3xP/bXVnHqlbj5gixpQVxpTOzEo5KDpIMCi60lOG1HBC/SGhYg9jy0\n",
              "EM8zqwq7fwPs1Hi72YQdAAAAKwGevHRDfwBWUJvJ6yu/+qwmo4477TXOnayAyB+3Bp4WRKH3bW+t\n",
              "Zgy2UasAAABLAZ6+akN/AFZfsi9M8qF9PzRH4DJQPnttNJHCD3Bta/spfnLFqbjWawIh0AFjLPmP\n",
              "0apGKHI0C4kEbwtsOmEwvH6M1bH6y7R4W+KGAAAAWkGao0moQWyZTAhv//6nhADW0lQmaijq3BOZ\n",
              "ziQAtTWhENPPNmQTO55BeFoANG56v6/GazVhZVj1GGNMoksOThanxkntOV/El9lCTelKrM/1RAsz\n",
              "RZnK1cCGBQAAAD5BnsFFFSw7/wA7xLYvpsr8OefiwwOk0CP4kjVgUFR/K9szIsW5TiLpo/jtx2CY\n",
              "n5Ym2BGSkSTybrQjLKRkwAAAACYBnuB0Q38AVlCch7EwcOJK9j+HZVNlHCp7LACZlSf2G+uuZy8S\n",
              "8QAAAFABnuJqQ38AVl+yprJe/kE+7EFc6ZZSFFf8nEm5pFpRbsg/ZsE+Qo7X+nHbGiqf+AAVoBIp\n",
              "eXq1qGmIFFFL6QMIHvhqOLgGWYfOAHMUhW4koAAAB5Ztb292AAAAbG12aGQAAAAAAAAAAAAAAAAA\n",
              "AAPoAAAnEAABAAABAAAAAAAAAAAAAAAAAQAAAAAAAAAAAAAAAAAAAAEAAAAAAAAAAAAAAAAAAEAA\n",
              "AAAAAAAAAAAAAAAAAAAAAAAAAAAAAAAAAAAAAAACAAAGwHRyYWsAAABcdGtoZAAAAAMAAAAAAAAA\n",
              "AAAAAAEAAAAAAAAnEAAAAAAAAAAAAAAAAAAAAAAAAQAAAAAAAAAAAAAAAAAAAAEAAAAAAAAAAAAA\n",
              "AAAAAEAAAAABsAAAASAAAAAAACRlZHRzAAAAHGVsc3QAAAAAAAAAAQAAJxAAAAgAAAEAAAAABjht\n",
              "ZGlhAAAAIG1kaGQAAAAAAAAAAAAAAAAAACgAAAGQAFXEAAAAAAAtaGRscgAAAAAAAAAAdmlkZQAA\n",
              "AAAAAAAAAAAAAFZpZGVvSGFuZGxlcgAAAAXjbWluZgAAABR2bWhkAAAAAQAAAAAAAAAAAAAAJGRp\n",
              "bmYAAAAcZHJlZgAAAAAAAAABAAAADHVybCAAAAABAAAFo3N0YmwAAACzc3RzZAAAAAAAAAABAAAA\n",
              "o2F2YzEAAAAAAAAAAQAAAAAAAAAAAAAAAAAAAAABsAEgAEgAAABIAAAAAAAAAAEAAAAAAAAAAAAA\n",
              "AAAAAAAAAAAAAAAAAAAAAAAAAAAAAAAY//8AAAAxYXZjQwFkABX/4QAYZ2QAFazZQbCWhAAAAwAE\n",
              "AAADAFA8WLZYAQAGaOvjyyLAAAAAHHV1aWRraEDyXyRPxbo5pRvPAyPzAAAAAAAAABhzdHRzAAAA\n",
              "AAAAAAEAAABkAAAEAAAAABRzdHNzAAAAAAAAAAEAAAABAAAC6GN0dHMAAAAAAAAAWwAAAAcAAAgA\n",
              "AAAAAQAAFAAAAAABAAAIAAAAAAEAAAAAAAAAAQAABAAAAAABAAAQAAAAAAIAAAQAAAAAAQAAFAAA\n",
              "AAABAAAIAAAAAAEAAAAAAAAAAQAABAAAAAABAAAQAAAAAAIAAAQAAAAAAQAAFAAAAAABAAAIAAAA\n",
              "AAEAAAAAAAAAAQAABAAAAAABAAAUAAAAAAEAAAgAAAAAAQAAAAAAAAABAAAEAAAAAAEAABAAAAAA\n",
              "AgAABAAAAAABAAAUAAAAAAEAAAgAAAAAAQAAAAAAAAABAAAEAAAAAAEAABQAAAAAAQAACAAAAAAB\n",
              "AAAAAAAAAAEAAAQAAAAAAQAAFAAAAAABAAAIAAAAAAEAAAAAAAAAAQAABAAAAAABAAAUAAAAAAEA\n",
              "AAgAAAAAAQAAAAAAAAABAAAEAAAAAAEAABQAAAAAAQAACAAAAAABAAAAAAAAAAEAAAQAAAAAAQAA\n",
              "FAAAAAABAAAIAAAAAAEAAAAAAAAAAQAABAAAAAABAAAUAAAAAAEAAAgAAAAAAQAAAAAAAAABAAAE\n",
              "AAAAAAEAABQAAAAAAQAACAAAAAABAAAAAAAAAAEAAAQAAAAAAQAAFAAAAAABAAAIAAAAAAEAAAAA\n",
              "AAAAAQAABAAAAAABAAAUAAAAAAEAAAgAAAAAAQAAAAAAAAABAAAEAAAAAAEAABQAAAAAAQAACAAA\n",
              "AAABAAAAAAAAAAEAAAQAAAAAAQAAFAAAAAABAAAIAAAAAAEAAAAAAAAAAQAABAAAAAABAAAUAAAA\n",
              "AAEAAAgAAAAAAQAAAAAAAAABAAAEAAAAAAEAABQAAAAAAQAACAAAAAABAAAAAAAAAAEAAAQAAAAA\n",
              "AQAAFAAAAAABAAAIAAAAAAEAAAAAAAAAAQAABAAAAAABAAAUAAAAAAEAAAgAAAAAAQAAAAAAAAAB\n",
              "AAAEAAAAAAEAABQAAAAAAQAACAAAAAABAAAAAAAAAAEAAAQAAAAAHHN0c2MAAAAAAAAAAQAAAAEA\n",
              "AABkAAAAAQAAAaRzdHN6AAAAAAAAAAAAAABkAAATxwAAA/gAAAMoAAACqgAAAn8AAAHdAAAB+gAA\n",
              "AygAAACGAAAAZQAAAFEAAAJ/AAAAXAAAAEkAAAO7AAAAjQAAAFQAAABZAAAB7gAAAFMAAABEAAAC\n",
              "KAAAAGgAAABAAAAAUQAAAsMAAABvAAAARAAAAEcAAAHEAAAARwAAADwAAAHZAAAAXwAAAFMAAABN\n",
              "AAACbAAAAGEAAABHAAAAOAAAAj0AAABiAAAAQQAAAD0AAAJLAAAASwAAADkAAAA6AAACTQAAAFMA\n",
              "AAA2AAAAPAAAAm4AAABhAAAAPAAAAEgAAAKOAAAAVwAAAE4AAAA8AAACQQAAAE0AAAAzAAAAKQAA\n",
              "AjIAAABIAAAANgAAAC0AAAI6AAAASgAAADYAAAA5AAACBQAAAEgAAAA6AAAANAAAAZUAAABBAAAA\n",
              "SQAAADgAAAGhAAAAUgAAAE0AAAA9AAABhAAAAFwAAABMAAAANgAAATYAAABGAAAATwAAAFUAAADU\n",
              "AAAATAAAAC8AAABPAAAAXgAAAEIAAAAqAAAAVAAAABRzdGNvAAAAAAAAAAEAAAAsAAAAYnVkdGEA\n",
              "AABabWV0YQAAAAAAAAAhaGRscgAAAAAAAAAAbWRpcmFwcGwAAAAAAAAAAAAAAAAtaWxzdAAAACWp\n",
              "dG9vAAAAHWRhdGEAAAABAAAAAExhdmY1Ny44My4xMDA=\n",
              "\">\n",
              "  Your browser does not support the video tag.\n",
              "</video>"
            ],
            "text/plain": [
              "<IPython.core.display.HTML object>"
            ]
          },
          "metadata": {
            "tags": []
          },
          "execution_count": 71
        }
      ]
    },
    {
      "cell_type": "code",
      "metadata": {
        "id": "_s6JTcUuz8P9",
        "colab_type": "code",
        "colab": {}
      },
      "source": [
        ""
      ],
      "execution_count": 0,
      "outputs": []
    }
  ]
}